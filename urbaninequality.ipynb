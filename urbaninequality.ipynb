{
 "cells": [
  {
   "cell_type": "markdown",
   "metadata": {},
   "source": [
    "# Plot data on inequality and size for Norwegian municipalities"
   ]
  },
  {
   "cell_type": "markdown",
   "metadata": {},
   "source": [
    "The theory goes that cities are drivers of economic inequality. Statistics Norway has data both on income inequality and population on a municipality level. There are currently 428 municipalities in Norway, ranging in population size from ~200 to >600 000. Most municipalities aren't cities (let alone big cities). Still, the correlation is interesting. The project is inspired by Richard Florida."
   ]
  },
  {
   "cell_type": "markdown",
   "metadata": {},
   "source": [
    "We start by importing some libraries."
   ]
  },
  {
   "cell_type": "code",
   "execution_count": 3,
   "metadata": {
    "collapsed": true,
    "deletable": true,
    "editable": true
   },
   "outputs": [],
   "source": [
    "from bokeh.plotting import figure, show"
   ]
  },
  {
   "cell_type": "code",
   "execution_count": 4,
   "metadata": {
    "collapsed": false,
    "deletable": true,
    "editable": true
   },
   "outputs": [
    {
     "data": {
      "text/html": [
       "\n",
       "    <div class=\"bk-root\">\n",
       "        <a href=\"http://bokeh.pydata.org\" target=\"_blank\" class=\"bk-logo bk-logo-small bk-logo-notebook\"></a>\n",
       "        <span id=\"b9be45ae-7a4f-45c9-b6c3-0669d3d48b4e\">Loading BokehJS ...</span>\n",
       "    </div>"
      ]
     },
     "metadata": {},
     "output_type": "display_data"
    },
    {
     "data": {
      "application/javascript": [
       "\n",
       "(function(global) {\n",
       "  function now() {\n",
       "    return new Date();\n",
       "  }\n",
       "\n",
       "  var force = true;\n",
       "\n",
       "  if (typeof (window._bokeh_onload_callbacks) === \"undefined\" || force === true) {\n",
       "    window._bokeh_onload_callbacks = [];\n",
       "    window._bokeh_is_loading = undefined;\n",
       "  }\n",
       "\n",
       "\n",
       "  \n",
       "  if (typeof (window._bokeh_timeout) === \"undefined\" || force === true) {\n",
       "    window._bokeh_timeout = Date.now() + 5000;\n",
       "    window._bokeh_failed_load = false;\n",
       "  }\n",
       "\n",
       "  var NB_LOAD_WARNING = {'data': {'text/html':\n",
       "     \"<div style='background-color: #fdd'>\\n\"+\n",
       "     \"<p>\\n\"+\n",
       "     \"BokehJS does not appear to have successfully loaded. If loading BokehJS from CDN, this \\n\"+\n",
       "     \"may be due to a slow or bad network connection. Possible fixes:\\n\"+\n",
       "     \"</p>\\n\"+\n",
       "     \"<ul>\\n\"+\n",
       "     \"<li>re-rerun `output_notebook()` to attempt to load from CDN again, or</li>\\n\"+\n",
       "     \"<li>use INLINE resources instead, as so:</li>\\n\"+\n",
       "     \"</ul>\\n\"+\n",
       "     \"<code>\\n\"+\n",
       "     \"from bokeh.resources import INLINE\\n\"+\n",
       "     \"output_notebook(resources=INLINE)\\n\"+\n",
       "     \"</code>\\n\"+\n",
       "     \"</div>\"}};\n",
       "\n",
       "  function display_loaded() {\n",
       "    if (window.Bokeh !== undefined) {\n",
       "      var el = document.getElementById(\"b9be45ae-7a4f-45c9-b6c3-0669d3d48b4e\");\n",
       "      el.textContent = \"BokehJS \" + Bokeh.version + \" successfully loaded.\";\n",
       "    } else if (Date.now() < window._bokeh_timeout) {\n",
       "      setTimeout(display_loaded, 100)\n",
       "    }\n",
       "  }\n",
       "\n",
       "  function run_callbacks() {\n",
       "    window._bokeh_onload_callbacks.forEach(function(callback) { callback() });\n",
       "    delete window._bokeh_onload_callbacks\n",
       "    console.info(\"Bokeh: all callbacks have finished\");\n",
       "  }\n",
       "\n",
       "  function load_libs(js_urls, callback) {\n",
       "    window._bokeh_onload_callbacks.push(callback);\n",
       "    if (window._bokeh_is_loading > 0) {\n",
       "      console.log(\"Bokeh: BokehJS is being loaded, scheduling callback at\", now());\n",
       "      return null;\n",
       "    }\n",
       "    if (js_urls == null || js_urls.length === 0) {\n",
       "      run_callbacks();\n",
       "      return null;\n",
       "    }\n",
       "    console.log(\"Bokeh: BokehJS not loaded, scheduling load and callback at\", now());\n",
       "    window._bokeh_is_loading = js_urls.length;\n",
       "    for (var i = 0; i < js_urls.length; i++) {\n",
       "      var url = js_urls[i];\n",
       "      var s = document.createElement('script');\n",
       "      s.src = url;\n",
       "      s.async = false;\n",
       "      s.onreadystatechange = s.onload = function() {\n",
       "        window._bokeh_is_loading--;\n",
       "        if (window._bokeh_is_loading === 0) {\n",
       "          console.log(\"Bokeh: all BokehJS libraries loaded\");\n",
       "          run_callbacks()\n",
       "        }\n",
       "      };\n",
       "      s.onerror = function() {\n",
       "        console.warn(\"failed to load library \" + url);\n",
       "      };\n",
       "      console.log(\"Bokeh: injecting script tag for BokehJS library: \", url);\n",
       "      document.getElementsByTagName(\"head\")[0].appendChild(s);\n",
       "    }\n",
       "  };var element = document.getElementById(\"b9be45ae-7a4f-45c9-b6c3-0669d3d48b4e\");\n",
       "  if (element == null) {\n",
       "    console.log(\"Bokeh: ERROR: autoload.js configured with elementid 'b9be45ae-7a4f-45c9-b6c3-0669d3d48b4e' but no matching script tag was found. \")\n",
       "    return false;\n",
       "  }\n",
       "\n",
       "  var js_urls = [\"https://cdn.pydata.org/bokeh/release/bokeh-0.12.5.min.js\", \"https://cdn.pydata.org/bokeh/release/bokeh-widgets-0.12.5.min.js\"];\n",
       "\n",
       "  var inline_js = [\n",
       "    function(Bokeh) {\n",
       "      Bokeh.set_log_level(\"info\");\n",
       "    },\n",
       "    \n",
       "    function(Bokeh) {\n",
       "      \n",
       "    },\n",
       "    \n",
       "    function(Bokeh) {\n",
       "      \n",
       "      document.getElementById(\"b9be45ae-7a4f-45c9-b6c3-0669d3d48b4e\").textContent = \"BokehJS is loading...\";\n",
       "    },\n",
       "    function(Bokeh) {\n",
       "      console.log(\"Bokeh: injecting CSS: https://cdn.pydata.org/bokeh/release/bokeh-0.12.5.min.css\");\n",
       "      Bokeh.embed.inject_css(\"https://cdn.pydata.org/bokeh/release/bokeh-0.12.5.min.css\");\n",
       "      console.log(\"Bokeh: injecting CSS: https://cdn.pydata.org/bokeh/release/bokeh-widgets-0.12.5.min.css\");\n",
       "      Bokeh.embed.inject_css(\"https://cdn.pydata.org/bokeh/release/bokeh-widgets-0.12.5.min.css\");\n",
       "    }\n",
       "  ];\n",
       "\n",
       "  function run_inline_js() {\n",
       "    \n",
       "    if ((window.Bokeh !== undefined) || (force === true)) {\n",
       "      for (var i = 0; i < inline_js.length; i++) {\n",
       "        inline_js[i](window.Bokeh);\n",
       "      }if (force === true) {\n",
       "        display_loaded();\n",
       "      }} else if (Date.now() < window._bokeh_timeout) {\n",
       "      setTimeout(run_inline_js, 100);\n",
       "    } else if (!window._bokeh_failed_load) {\n",
       "      console.log(\"Bokeh: BokehJS failed to load within specified timeout.\");\n",
       "      window._bokeh_failed_load = true;\n",
       "    } else if (force !== true) {\n",
       "      var cell = $(document.getElementById(\"b9be45ae-7a4f-45c9-b6c3-0669d3d48b4e\")).parents('.cell').data().cell;\n",
       "      cell.output_area.append_execute_result(NB_LOAD_WARNING)\n",
       "    }\n",
       "\n",
       "  }\n",
       "\n",
       "  if (window._bokeh_is_loading === 0) {\n",
       "    console.log(\"Bokeh: BokehJS loaded, going straight to plotting\");\n",
       "    run_inline_js();\n",
       "  } else {\n",
       "    load_libs(js_urls, function() {\n",
       "      console.log(\"Bokeh: BokehJS plotting callback run at\", now());\n",
       "      run_inline_js();\n",
       "    });\n",
       "  }\n",
       "}(this));"
      ]
     },
     "metadata": {},
     "output_type": "display_data"
    }
   ],
   "source": [
    "from bokeh.io import output_notebook\n",
    "output_notebook()"
   ]
  },
  {
   "cell_type": "code",
   "execution_count": 36,
   "metadata": {
    "collapsed": true,
    "deletable": true,
    "editable": true
   },
   "outputs": [],
   "source": [
    "import requests\n",
    "from pyjstat import pyjstat\n",
    "from collections import OrderedDict\n",
    "import json\n",
    "import pandas as pd\n",
    "from bokeh.models import ColumnDataSource, HoverTool"
   ]
  },
  {
   "cell_type": "markdown",
   "metadata": {},
   "source": [
    "## Population vs inequality"
   ]
  },
  {
   "cell_type": "markdown",
   "metadata": {},
   "source": [
    "### Get the data"
   ]
  },
  {
   "cell_type": "markdown",
   "metadata": {},
   "source": [
    "Statistics Norway has a nice REST-API, which we are going to use. The API uses POST requests, so we specify the URL and the (somewhat complex) JSON-query. The JSON query is basically just a filter statement, plus the specification that we want json-stat formatted response."
   ]
  },
  {
   "cell_type": "code",
   "execution_count": 6,
   "metadata": {
    "collapsed": true,
    "deletable": true,
    "editable": true
   },
   "outputs": [],
   "source": [
    "GINI_URL = 'http://data.ssb.no/api/v0/no/table/09114'"
   ]
  },
  {
   "cell_type": "code",
   "execution_count": 7,
   "metadata": {
    "collapsed": true,
    "deletable": true,
    "editable": true
   },
   "outputs": [],
   "source": [
    "GINI_PAYLOAD = {\n",
    "  \"query\": [\n",
    "    {\n",
    "      \"code\": \"Region\",\n",
    "      \"selection\": {\n",
    "        \"filter\": \"all\",\n",
    "        \"values\": [\n",
    "          \"*\"\n",
    "        ]\n",
    "      }\n",
    "    },\n",
    "    {\n",
    "      \"code\": \"ContentsCode\",\n",
    "      \"selection\": {\n",
    "        \"filter\": \"item\",\n",
    "        \"values\": [\n",
    "          \"Ginikoeffisient\"\n",
    "        ]\n",
    "      }\n",
    "    },\n",
    "    {\n",
    "      \"code\": \"Tid\",\n",
    "      \"selection\": {\n",
    "        \"filter\": \"top\",\n",
    "        \"values\": [\n",
    "            1\n",
    "        ]\n",
    "      }\n",
    "    }\n",
    "  ],\n",
    "  \"response\": {\n",
    "    \"format\": \"json-stat\"\n",
    "  }\n",
    "}\n"
   ]
  },
  {
   "cell_type": "markdown",
   "metadata": {},
   "source": [
    "Send request"
   ]
  },
  {
   "cell_type": "code",
   "execution_count": 8,
   "metadata": {
    "collapsed": true,
    "deletable": true,
    "editable": true
   },
   "outputs": [],
   "source": [
    "ginidata = requests.post(GINI_URL, json=GINI_PAYLOAD)"
   ]
  },
  {
   "cell_type": "markdown",
   "metadata": {},
   "source": [
    "Convert json-stat to pandas data frame."
   ]
  },
  {
   "cell_type": "code",
   "execution_count": 9,
   "metadata": {
    "collapsed": false,
    "deletable": true,
    "editable": true
   },
   "outputs": [],
   "source": [
    "ginidf = pyjstat.from_json_stat(ginidata.json(object_pairs_hook=OrderedDict), naming='id')[0]"
   ]
  },
  {
   "cell_type": "code",
   "execution_count": 10,
   "metadata": {
    "collapsed": true,
    "deletable": true,
    "editable": true
   },
   "outputs": [],
   "source": [
    "POP_URL = 'http://data.ssb.no/api/v0/no/table/01222'\n",
    "POP_PAYLOAD = {\n",
    "  \"query\": [\n",
    "    {\n",
    "      \"code\": \"Region\",\n",
    "      \"selection\": {\n",
    "        \"filter\": \"all\",\n",
    "        \"values\": [\n",
    "          \"*\"\n",
    "        ]\n",
    "      }\n",
    "    },\n",
    "    {\n",
    "      \"code\": \"ContentsCode\",\n",
    "      \"selection\": {\n",
    "        \"filter\": \"item\",\n",
    "        \"values\": [\n",
    "          \"Folketallet1\"\n",
    "        ]\n",
    "      }\n",
    "    },\n",
    "    {\n",
    "      \"code\": \"Tid\",\n",
    "      \"selection\": {\n",
    "        \"filter\": \"top\",\n",
    "        \"values\": [\n",
    "            1\n",
    "        ]\n",
    "      }\n",
    "    }\n",
    "  ],\n",
    "  \"response\": {\n",
    "    \"format\": \"json-stat\"\n",
    "  }\n",
    "}\n"
   ]
  },
  {
   "cell_type": "code",
   "execution_count": 11,
   "metadata": {
    "collapsed": true,
    "deletable": true,
    "editable": true
   },
   "outputs": [],
   "source": [
    "popdata = requests.post(POP_URL, json=POP_PAYLOAD)"
   ]
  },
  {
   "cell_type": "code",
   "execution_count": 12,
   "metadata": {
    "collapsed": false,
    "deletable": true,
    "editable": true
   },
   "outputs": [],
   "source": [
    "popdf = pyjstat.from_json_stat(popdata.json(object_pairs_hook=OrderedDict), naming='id')[0]"
   ]
  },
  {
   "cell_type": "code",
   "execution_count": 13,
   "metadata": {
    "collapsed": false,
    "deletable": true,
    "editable": true
   },
   "outputs": [],
   "source": [
    "popdf.drop([\"ContentsCode\", 'Tid'], axis=1, inplace=True)\n",
    "ginidf.drop([\"ContentsCode\", \"Tid\"], axis=1, inplace=True)"
   ]
  },
  {
   "cell_type": "code",
   "execution_count": 14,
   "metadata": {
    "collapsed": false,
    "deletable": true,
    "editable": true
   },
   "outputs": [],
   "source": [
    "popdf.rename(columns={'value': 'folketall'}, inplace=True)\n",
    "ginidf.rename(columns={'value':'gini'}, inplace=True)"
   ]
  },
  {
   "cell_type": "code",
   "execution_count": 17,
   "metadata": {
    "collapsed": false
   },
   "outputs": [],
   "source": [
    "ginidf = ginidf[ginidf['Region'].str.len()==4]\n",
    "popdf = popdf[popdf['Region'].str.len()==4]"
   ]
  },
  {
   "cell_type": "markdown",
   "metadata": {},
   "source": [
    "Join Gini-data with population data"
   ]
  },
  {
   "cell_type": "code",
   "execution_count": 18,
   "metadata": {
    "collapsed": false,
    "deletable": true,
    "editable": true
   },
   "outputs": [],
   "source": [
    "ad2 = pd.merge(popdf, ginidf, on='Region')"
   ]
  },
  {
   "cell_type": "markdown",
   "metadata": {},
   "source": [
    "## Visualization"
   ]
  },
  {
   "cell_type": "markdown",
   "metadata": {},
   "source": [
    "Create the first visualization, using gini-coefficients and municipality population."
   ]
  },
  {
   "cell_type": "code",
   "execution_count": 40,
   "metadata": {
    "collapsed": true
   },
   "outputs": [],
   "source": [
    "pop_hover = HoverTool(tooltips=[\n",
    "    (\"Municipality_id\", \"@Region\"),\n",
    "    (\"Gini\", \"@gini\"),\n",
    "    (\"Total population\", \"@folketall\")\n",
    "])"
   ]
  },
  {
   "cell_type": "code",
   "execution_count": 41,
   "metadata": {
    "collapsed": false,
    "deletable": true,
    "editable": true
   },
   "outputs": [
    {
     "data": {
      "text/html": [
       "\n",
       "\n",
       "    <div class=\"bk-root\">\n",
       "        <div class=\"bk-plotdiv\" id=\"b2db7998-11d6-4430-8c38-0ede93e0c44d\"></div>\n",
       "    </div>\n",
       "<script type=\"text/javascript\">\n",
       "  \n",
       "  (function(global) {\n",
       "    function now() {\n",
       "      return new Date();\n",
       "    }\n",
       "  \n",
       "    var force = false;\n",
       "  \n",
       "    if (typeof (window._bokeh_onload_callbacks) === \"undefined\" || force === true) {\n",
       "      window._bokeh_onload_callbacks = [];\n",
       "      window._bokeh_is_loading = undefined;\n",
       "    }\n",
       "  \n",
       "  \n",
       "    \n",
       "    if (typeof (window._bokeh_timeout) === \"undefined\" || force === true) {\n",
       "      window._bokeh_timeout = Date.now() + 0;\n",
       "      window._bokeh_failed_load = false;\n",
       "    }\n",
       "  \n",
       "    var NB_LOAD_WARNING = {'data': {'text/html':\n",
       "       \"<div style='background-color: #fdd'>\\n\"+\n",
       "       \"<p>\\n\"+\n",
       "       \"BokehJS does not appear to have successfully loaded. If loading BokehJS from CDN, this \\n\"+\n",
       "       \"may be due to a slow or bad network connection. Possible fixes:\\n\"+\n",
       "       \"</p>\\n\"+\n",
       "       \"<ul>\\n\"+\n",
       "       \"<li>re-rerun `output_notebook()` to attempt to load from CDN again, or</li>\\n\"+\n",
       "       \"<li>use INLINE resources instead, as so:</li>\\n\"+\n",
       "       \"</ul>\\n\"+\n",
       "       \"<code>\\n\"+\n",
       "       \"from bokeh.resources import INLINE\\n\"+\n",
       "       \"output_notebook(resources=INLINE)\\n\"+\n",
       "       \"</code>\\n\"+\n",
       "       \"</div>\"}};\n",
       "  \n",
       "    function display_loaded() {\n",
       "      if (window.Bokeh !== undefined) {\n",
       "        var el = document.getElementById(\"b2db7998-11d6-4430-8c38-0ede93e0c44d\");\n",
       "        el.textContent = \"BokehJS \" + Bokeh.version + \" successfully loaded.\";\n",
       "      } else if (Date.now() < window._bokeh_timeout) {\n",
       "        setTimeout(display_loaded, 100)\n",
       "      }\n",
       "    }\n",
       "  \n",
       "    function run_callbacks() {\n",
       "      window._bokeh_onload_callbacks.forEach(function(callback) { callback() });\n",
       "      delete window._bokeh_onload_callbacks\n",
       "      console.info(\"Bokeh: all callbacks have finished\");\n",
       "    }\n",
       "  \n",
       "    function load_libs(js_urls, callback) {\n",
       "      window._bokeh_onload_callbacks.push(callback);\n",
       "      if (window._bokeh_is_loading > 0) {\n",
       "        console.log(\"Bokeh: BokehJS is being loaded, scheduling callback at\", now());\n",
       "        return null;\n",
       "      }\n",
       "      if (js_urls == null || js_urls.length === 0) {\n",
       "        run_callbacks();\n",
       "        return null;\n",
       "      }\n",
       "      console.log(\"Bokeh: BokehJS not loaded, scheduling load and callback at\", now());\n",
       "      window._bokeh_is_loading = js_urls.length;\n",
       "      for (var i = 0; i < js_urls.length; i++) {\n",
       "        var url = js_urls[i];\n",
       "        var s = document.createElement('script');\n",
       "        s.src = url;\n",
       "        s.async = false;\n",
       "        s.onreadystatechange = s.onload = function() {\n",
       "          window._bokeh_is_loading--;\n",
       "          if (window._bokeh_is_loading === 0) {\n",
       "            console.log(\"Bokeh: all BokehJS libraries loaded\");\n",
       "            run_callbacks()\n",
       "          }\n",
       "        };\n",
       "        s.onerror = function() {\n",
       "          console.warn(\"failed to load library \" + url);\n",
       "        };\n",
       "        console.log(\"Bokeh: injecting script tag for BokehJS library: \", url);\n",
       "        document.getElementsByTagName(\"head\")[0].appendChild(s);\n",
       "      }\n",
       "    };var element = document.getElementById(\"b2db7998-11d6-4430-8c38-0ede93e0c44d\");\n",
       "    if (element == null) {\n",
       "      console.log(\"Bokeh: ERROR: autoload.js configured with elementid 'b2db7998-11d6-4430-8c38-0ede93e0c44d' but no matching script tag was found. \")\n",
       "      return false;\n",
       "    }\n",
       "  \n",
       "    var js_urls = [];\n",
       "  \n",
       "    var inline_js = [\n",
       "      function(Bokeh) {\n",
       "        (function() {\n",
       "          var fn = function() {\n",
       "            var docs_json = {\"729093a1-8c8d-4c53-9d97-0ea69192164e\":{\"roots\":{\"references\":[{\"attributes\":{\"callback\":null,\"column_names\":[\"Region\",\"folketall\",\"gini\",\"index\"],\"data\":{\"Region\":[\"0101\",\"0104\",\"0105\",\"0106\",\"0111\",\"0118\",\"0119\",\"0121\",\"0122\",\"0123\",\"0124\",\"0125\",\"0127\",\"0128\",\"0135\",\"0136\",\"0137\",\"0138\",\"0211\",\"0213\",\"0214\",\"0215\",\"0216\",\"0217\",\"0219\",\"0220\",\"0221\",\"0226\",\"0227\",\"0228\",\"0229\",\"0230\",\"0231\",\"0233\",\"0234\",\"0235\",\"0236\",\"0237\",\"0238\",\"0239\",\"0301\",\"0402\",\"0403\",\"0412\",\"0415\",\"0417\",\"0418\",\"0419\",\"0420\",\"0423\",\"0425\",\"0426\",\"0427\",\"0428\",\"0429\",\"0430\",\"0432\",\"0434\",\"0436\",\"0437\",\"0438\",\"0439\",\"0441\",\"0501\",\"0502\",\"0511\",\"0512\",\"0513\",\"0514\",\"0515\",\"0516\",\"0517\",\"0519\",\"0520\",\"0521\",\"0522\",\"0528\",\"0529\",\"0532\",\"0533\",\"0534\",\"0536\",\"0538\",\"0540\",\"0541\",\"0542\",\"0543\",\"0544\",\"0545\",\"0602\",\"0604\",\"0605\",\"0612\",\"0615\",\"0616\",\"0617\",\"0618\",\"0619\",\"0620\",\"0621\",\"0622\",\"0623\",\"0624\",\"0625\",\"0626\",\"0627\",\"0628\",\"0631\",\"0632\",\"0633\",\"0701\",\"0702\",\"0704\",\"0706\",\"0709\",\"0710\",\"0711\",\"0713\",\"0714\",\"0716\",\"0719\",\"0720\",\"0722\",\"0723\",\"0728\",\"0805\",\"0806\",\"0807\",\"0811\",\"0814\",\"0815\",\"0817\",\"0819\",\"0821\",\"0822\",\"0826\",\"0827\",\"0828\",\"0829\",\"0830\",\"0831\",\"0833\",\"0834\",\"0901\",\"0904\",\"0906\",\"0911\",\"0912\",\"0914\",\"0919\",\"0926\",\"0928\",\"0929\",\"0935\",\"0937\",\"0938\",\"0940\",\"0941\",\"1001\",\"1002\",\"1003\",\"1004\",\"1014\",\"1017\",\"1018\",\"1021\",\"1026\",\"1027\",\"1029\",\"1032\",\"1034\",\"1037\",\"1046\",\"1101\",\"1102\",\"1103\",\"1106\",\"1111\",\"1112\",\"1114\",\"1119\",\"1120\",\"1121\",\"1122\",\"1124\",\"1127\",\"1129\",\"1130\",\"1133\",\"1134\",\"1135\",\"1141\",\"1142\",\"1144\",\"1145\",\"1146\",\"1149\",\"1151\",\"1154\",\"1159\",\"1160\",\"1201\",\"1211\",\"1216\",\"1219\",\"1221\",\"1222\",\"1223\",\"1224\",\"1227\",\"1228\",\"1231\",\"1232\",\"1233\",\"1234\",\"1235\",\"1238\",\"1241\",\"1242\",\"1243\",\"1244\",\"1245\",\"1246\",\"1247\",\"1251\",\"1252\",\"1253\",\"1256\",\"1259\",\"1260\",\"1263\",\"1264\",\"1265\",\"1266\",\"1401\",\"1411\",\"1412\",\"1413\",\"1416\",\"1417\",\"1418\",\"1419\",\"1420\",\"1421\",\"1422\",\"1424\",\"1426\",\"1428\",\"1429\",\"1430\",\"1431\",\"1432\",\"1433\",\"1438\",\"1439\",\"1441\",\"1443\",\"1444\",\"1445\",\"1449\",\"1502\",\"1503\",\"1504\",\"1505\",\"1511\",\"1514\",\"1515\",\"1516\",\"1517\",\"1519\",\"1520\",\"1523\",\"1524\",\"1525\",\"1526\",\"1528\",\"1529\",\"1531\",\"1532\",\"1534\",\"1535\",\"1539\",\"1543\",\"1545\",\"1546\",\"1547\",\"1548\",\"1551\",\"1554\",\"1556\",\"1557\",\"1560\",\"1563\",\"1566\",\"1567\",\"1569\",\"1571\",\"1572\",\"1573\",\"1576\",\"1601\",\"1612\",\"1613\",\"1617\",\"1620\",\"1621\",\"1622\",\"1624\",\"1627\",\"1630\",\"1632\",\"1633\",\"1634\",\"1635\",\"1636\",\"1638\",\"1640\",\"1644\",\"1648\",\"1653\",\"1657\",\"1662\",\"1663\",\"1664\",\"1665\",\"1702\",\"1703\",\"1711\",\"1714\",\"1717\",\"1718\",\"1719\",\"1721\",\"1723\",\"1724\",\"1725\",\"1729\",\"1736\",\"1738\",\"1739\",\"1740\",\"1742\",\"1743\",\"1744\",\"1748\",\"1749\",\"1750\",\"1751\",\"1755\",\"1756\",\"1804\",\"1805\",\"1811\",\"1812\",\"1813\",\"1815\",\"1816\",\"1818\",\"1820\",\"1822\",\"1824\",\"1825\",\"1826\",\"1827\",\"1828\",\"1832\",\"1833\",\"1834\",\"1835\",\"1836\",\"1837\",\"1838\",\"1839\",\"1840\",\"1841\",\"1842\",\"1845\",\"1848\",\"1849\",\"1850\",\"1851\",\"1852\",\"1853\",\"1854\",\"1856\",\"1857\",\"1859\",\"1860\",\"1865\",\"1866\",\"1867\",\"1868\",\"1870\",\"1871\",\"1874\",\"1901\",\"1902\",\"1903\",\"1911\",\"1913\",\"1915\",\"1917\",\"1919\",\"1920\",\"1922\",\"1923\",\"1924\",\"1925\",\"1926\",\"1927\",\"1928\",\"1929\",\"1931\",\"1933\",\"1936\",\"1938\",\"1939\",\"1940\",\"1941\",\"1942\",\"1943\",\"2002\",\"2003\",\"2004\",\"2011\",\"2012\",\"2014\",\"2015\",\"2017\",\"2018\",\"2019\",\"2020\",\"2021\",\"2022\",\"2023\",\"2024\",\"2025\",\"2027\",\"2028\",\"2030\",\"2111\",\"2121\",\"2131\",\"2211\",\"2311\",\"2321\"],\"folketall\":[30840,32541,55334,80536,4523,1410,3584,683,5330,5812,15775,11389,3809,8242,7444,15907,5396,5639,17371,30813,19601,15810,19137,27143,124798,61105,16331,17769,11643,17887,10930,38279,53725,23452,6591,35773,21513,24590,12959,2919,669060,17903,30671,34010,7628,20463,5110,7877,6155,4756,7328,3713,21039,6559,4434,2516,1864,1289,1597,5609,2440,1590,1952,27651,30294,2666,2027,2199,2356,3626,5733,5901,3155,4471,5119,6179,14874,13248,6750,9119,13758,5700,6754,3024,1346,6498,2132,3246,1609,68523,27299,30171,6825,1075,3342,4613,2463,4647,4563,3470,2277,13854,18703,24841,25859,22154,9481,2685,1407,2529,27270,10929,45142,0,44199,62435,6676,9661,3191,9557,0,0,21823,4955,2499,36190,54508,12749,2358,14184,10576,4139,6656,6212,4315,5908,1585,2979,2436,1495,1340,2226,3702,6917,22764,44691,2474,2091,6059,5770,10818,5203,1857,1329,3643,1205,1236,961,89760,15655,9758,9115,14494,6595,11328,2322,938,1772,4973,8606,1703,5982,1832,14923,76076,132913,37272,3351,3252,2846,18782,19170,18709,11900,26164,10976,1240,12700,2718,3884,4715,3254,4872,547,865,11087,42334,203,0,0,8829,279035,4123,5668,11870,18819,3191,2853,13237,1105,6923,3392,939,1126,930,14573,8469,3920,2470,20470,5207,7075,25516,29048,4127,388,8084,8038,4891,5113,15775,2914,573,1728,12052,2354,807,1408,4187,2697,1282,2325,7950,1793,2159,5331,5184,3064,2841,2977,3030,13041,2855,3816,6029,2790,6100,1196,5839,7227,26788,0,47336,24396,3209,2559,8977,8496,5165,9072,10783,2301,1687,4622,983,7682,4670,9067,8267,9323,6592,7515,2974,2081,1251,3590,9748,3454,5852,0,2604,3102,7162,5970,2035,0,1584,0,2173,3597,191152,4273,982,4650,4937,5311,1708,6622,4861,3264,955,969,6984,2559,3930,11927,5669,2046,6268,16330,8062,6075,13879,4104,842,22018,13141,2485,23742,2618,3475,19932,14942,0,2507,1596,0,2143,1367,469,897,2407,1268,3866,624,1098,4491,5105,586,6779,51110,18721,1476,2039,7973,1227,518,1784,7509,2289,13474,1460,1417,1407,1833,4542,26186,1929,456,1257,6381,2032,1032,4743,9799,0,1974,2549,1807,1951,2122,1243,1407,2551,527,748,1322,11339,9553,8051,2626,4601,10410,4913,1079,0,75128,24853,2987,3036,0,1401,1123,1064,3978,2241,6786,3514,1143,1552,926,908,11691,5685,2276,2871,1867,2137,2887,4931,1236,2109,6101,10576,2938,20521,945,1030,1024,1224,3272,3968,2704,1350,1152,988,2937,945,2276,10168,0,0,0,0,0,0],\"gini\":{\"__ndarray__\":\"GQRWDi2yzT/+1HjpJjHQP8UgsHJokc0/uB6F61G4zj8EVg4tsp3PPxSuR+F6FM4/rBxaZDvfzz+Nl24Sg8DSP9nO91Pjpcs/bef7qfHSzT9t5/up8dLNP2Q730+Nl84/eekmMQiszD9QjZduEoPQPwwCK4cW2c4/WDm0yHa+zz8xCKwcWmTLP30/NV66Scw/VOOlm8Qg0D+0yHa+nxrPP7TIdr6fGs8/PQrXo3A90j8EVg4tsp3PP6RwPQrXo9A/FK5H4XoU1j/Jdr6fGi/VP9V46SYxCMw/zczMzMzMzD91kxgEVg7NPyGwcmiR7cw/eekmMQiszD/+1HjpJjHQP1g5tMh2vs8/FK5H4XoUzj8MAiuHFtnOP23n+6nx0s0/3SQGgZVDyz8tsp3vp8bLP9V46SYxCMw/2c73U+Olyz9t5/up8dLVP7x0kxgEVs4/rBxaZDvfzz+JQWDl0CLLP+XQItv5fso/JQaBlUOLzD/ufD81XrrJP9V46SYxCMw/3SQGgZVDyz/FILByaJHNPyGwcmiR7cw/iUFg5dAiyz8lBoGVQ4vMP4lBYOXQIss/4XoUrkfhyj9YObTIdr7PP5qZmZmZmck/3SQGgZVDyz/ByqFFtvPNP4XrUbgehcs/6SYxCKwcyj+WQ4ts5/vJP+kmMQisHMo/ZDvfT42Xzj/FILByaJHNP3E9CtejcM0/IbByaJHtzD/pJjEIrBzKP/LSTWIQWMk/4XoUrkfhyj8ZBFYOLbLNP0Jg5dAi28k/1XjpJjEIzD+BlUOLbOfLPxSuR+F6FM4/8tJNYhBYyT8tsp3vp8bLP57vp8ZLN8k/3SQGgZVDyz/RItv5fmrMPxkEVg4tss0/8tJNYhBYyT9CYOXQItvJP90kBoGVQ8s/eekmMQiszD8dWmQ730/NP+XQItv5fso/zczMzMzMzD9SuB6F61HQPzvfT42XbtI/BFYOLbKdzz9oke18PzXOP57vp8ZLN9E/ZDvfT42Xzj9YObTIdr7PPxBYObTIds4/oBov3SQG0T/6fmq8dJPQP/hT46WbxNA/iUFg5dAi0z9YObTIdr7PPxBYObTIds4/wcqhRbbzzT91kxgEVg7NP57vp8ZLN9E/bef7qfHSzT/ByqFFtvPNP7x0kxgEVs4/mpmZmZmZyT8lBoGVQ4vMP2Q730+Nl84/IbByaJHtzD/2KFyPwvXQP57vp8ZLN9E/BFYOLbKdzz8AAAAAAAD4f8l2vp8aL80/ZDvfT42Xzj/ZzvdT46XLPx1aZDvfT80/hetRuB6Fyz8MAiuHFtnOP5qZmZmZmdE/9P3UeOkm0T/NzMzMzMzMP7gehetRuM4/CKwcWmQ7zz9oke18PzXOP05iEFg5tMg/IbByaJHtzD9t5/up8dLNPzVeukkMAss/wcqhRbbzzT+mm8QgsHLQP30/NV66Scw/KVyPwvUozD8tsp3vp8bLPwRWDi2ync8/jZduEoPAyj/Jdr6fGi/NP9Ei2/l+asw/PQrXo3A9yj8ZBFYOLbLNP6RwPQrXo9A/6SYxCKwc0j8EVg4tsp3PP4GVQ4ts58s/nu+nxks3yT9YObTIdr7PP5ZDi2zn+8k/AAAAAAAA0D/ufD81XrrJP+F6FK5H4co/5dAi2/l+yj8tsp3vp8bLPxkEVg4tss0/eekmMQiszD+e76fGSzfRP6RwPQrXo9A/sHJoke18zz9oke18PzXOP8l2vp8aL80/ObTIdr6fyj+F61G4HoXLPwwCK4cW2c4/2c73U+Olyz9t5/up8dLNP+kmMQisHMo/qMZLN4lB0D91kxgEVg7NPyGwcmiR7cw/gZVDi2znyz8hsHJoke3MP2iR7Xw/Nc4/9P3UeOkm0T+BlUOLbOfTPwAAAAAAANA/fT81XrpJzD85tMh2vp/KPy2yne+nxss/HVpkO99PzT8EVg4tsp3PPwAAAAAAANA/hetRuB6Fyz/hehSuR+HSP+58PzVeutE/9ihcj8L10D9g5dAi2/nOPwisHFpkO88/ObTIdr6fyj/dJAaBlUPLP6abxCCwctA/pHA9Ctej0D/6fmq8dJPIP+kmMQisHMo/5dAi2/l+yj/Jdr6fGi/NP76fGi/dJMY/AAAAAAAA+H8AAAAAAAD4f05iEFg5tNA/nMQgsHJo0T81XrpJDALLP3WTGARWDs0/O99PjZdu0j8hsHJoke3MPxBYObTIds4/vHSTGARWzj85tMh2vp/KP05iEFg5tMg/lkOLbOf7yT85tMh2vp/KP9Ei2/l+asw/lkOLbOf7yT9CYOXQItvJP9V46SYxCMw/hetRuB6Fyz/FILByaJHNPylcj8L1KMw/BFYOLbKdzz+YbhKDwMrRP9Ei2/l+asw/xSCwcmiRzT89CtejcD3KP/p+arx0k8g/UrgehetR0D/hehSuR+HKP5HtfD81Xso/wcqhRbbzzT/hehSuR+HKP9V46SYxCMw/uB6F61G4zj+R7Xw/NV7KP+F6FK5H4co/rBxaZDvfzz8MAiuHFtnOP83MzMzMzMw/ke18PzVeyj85tMh2vp/KP8HKoUW2880/PQrXo3A9yj+amZmZmZnJPy2yne+nxss/MQisHFpkyz/l0CLb+X7KPwaBlUOLbMc/8tJNYhBYyT99PzVeuknMP0w3iUFg5dA/2c73U+Olyz/dJAaBlUPLP7gehetRuM4/cT0K16NwzT8xCKwcWmTLP8HKoUW2880/FK5H4XoUzj81XrpJDALLP6JFtvP91Mg/NV66SQwCyz/0/dR46SbRP7x0kxgEVs4/AAAAAAAA+H9U46WbxCDQP2iR7Xw/Nc4/dZMYBFYOzT/ByqFFtvPNP1CNl24Sg9A/aJHtfD81zj/Jdr6fGi/NP9V46SYxCMw/5dAi2/l+yj81XrpJDALLP0a28/3UeMk/MQisHFpkyz/hehSuR+HKP9V46SYxCMw/KVyPwvUozD+Nl24Sg8DKPx1aZDvfT80/0SLb+X5qzD/VeOkmMQjMPzm0yHa+n8o/lkOLbOf7yT8pXI/C9SjMP/p+arx0k9A/JQaBlUOLzD/hehSuR+HKP4lBYOXQIss/0SLb+X5qzD8AAAAAAAD4f5ZDi2zn+8k/cT0K16NwzT99PzVeuknMP6rx0k1iEMg//tR46SYxyD8AAAAAAAD4fzVeukkMAss/AAAAAAAA+H9xPQrXo3DNPwisHFpkO88/VOOlm8Qg0D85tMh2vp/KP1K4HoXrUcg/bef7qfHSzT+LbOf7qfHSP+kmMQisHMo/PQrXo3A9yj9KDAIrhxbJP5HtfD81Xso/Rrbz/dR4yT/ufD81XrrJP/LSTWIQWMk/NV66SQwCyz+amZmZmZnJP9Ei2/l+asw/Rrbz/dR4yT9CYOXQItvJP166SQwCK8c/IbByaJHtzD9GtvP91HjJP7Kd76fGS8c/iUFg5dAiyz/ZzvdT46XLP0oMAiuHFsk/MQisHFpkyz81XrpJDALLP9V46SYxCMw/4XoUrkfhyj/hehSuR+HKP+F6FK5H4co/TmIQWDm0yD956SYxCKzMP0a28/3UeMk/AAAAAAAA+H/6fmq8dJPIP6rx0k1iEMg/AAAAAAAA+H9CYOXQItvJPyUGgZVDi8w/CtejcD0Kxz81XrpJDALLPyGwcmiR7cw/DAIrhxbZzj+WQ4ts5/vJP5ZDi2zn+8k/zczMzMzMzD8lBoGVQ4vMP90kBoGVQ8s/Rrbz/dR4yT/l0CLb+X7KP4XrUbgehcs/iUFg5dAiyz+WQ4ts5/vJP5qZmZmZmck/1XjpJjEIzD+BlUOLbOfLP5HtfD81Xso/dZMYBFYOzT/VeOkmMQjMPzEIrBxaZMs/QmDl0CLbyT8Sg8DKoUXGPy2yne+nxss/vHSTGARWzj/FILByaJHNP57vp8ZLN8k/6SYxCKwcyj8AAAAAAADQP2Dl0CLb+c4/ke18PzVeyj8xCKwcWmTLPylcj8L1KMw/PQrXo3A9yj8lBoGVQ4vMP+kmMQisHMo/AAAAAAAA+H8K16NwPQrHP3WTGARWDs0/gZVDi2znyz/2KFyPwvXIPwwCK4cW2c4/WmQ730+Nxz+Nl24Sg8DKP/YoXI/C9cg/PQrXo3A90j+LbOf7qfHSP+F6FK5H4co/dZMYBFYOzT9g5dAi2/nOP8UgsHJokc0/eekmMQiszD+0yHa+nxrPP8UgsHJokc0/hetRuB6Fyz+8dJMYBFbOPwAAAAAAAPh/dZMYBFYOzT/RItv5fmrMPzEIrBxaZMs/mpmZmZmZyT8AAAAAAAD4fy2yne+nxss/ObTIdr6fyj8xCKwcWmTLP/p+arx0k8g/2c73U+Olyz8MAiuHFtnOP+F6FK5H4co/AiuHFtnOxz/ZzvdT46XLP7ByaJHtfM8/GQRWDi2yzT8UrkfhehTOP5qZmZmZmck/dZMYBFYOzT91kxgEVg7NP5qZmZmZmck/QmDl0CLbyT8dWmQ730/NP+XQItv5fso/aJHtfD81zj9xPQrXo3DNPyGwcmiR7cw/KVyPwvUozD/dJAaBlUPLPzm0yHa+n8o/ObTIdr6fyj+JQWDl0CLLP90kBoGVQ8s/aJHtfD81zj9YObTIdr7PP5qZmZmZmck/ObTIdr6fyj89CtejcD3KP6wcWmQ7388/yXa+nxovzT/hehSuR+HKP3E9CtejcM0/IbByaJHtzD/pJjEIrBzKPwAAAAAAAPh/AAAAAAAA+H8AAAAAAAD4fwAAAAAAAPh/AAAAAAAA+H8AAAAAAAD4fw==\",\"dtype\":\"float64\",\"shape\":[446]},\"index\":[0,1,2,3,4,5,6,7,8,9,10,11,12,13,14,15,16,17,18,19,20,21,22,23,24,25,26,27,28,29,30,31,32,33,34,35,36,37,38,39,40,41,42,43,44,45,46,47,48,49,50,51,52,53,54,55,56,57,58,59,60,61,62,63,64,65,66,67,68,69,70,71,72,73,74,75,76,77,78,79,80,81,82,83,84,85,86,87,88,89,90,91,92,93,94,95,96,97,98,99,100,101,102,103,104,105,106,107,108,109,110,111,112,113,114,115,116,117,118,119,120,121,122,123,124,125,126,127,128,129,130,131,132,133,134,135,136,137,138,139,140,141,142,143,144,145,146,147,148,149,150,151,152,153,154,155,156,157,158,159,160,161,162,163,164,165,166,167,168,169,170,171,172,173,174,175,176,177,178,179,180,181,182,183,184,185,186,187,188,189,190,191,192,193,194,195,196,197,198,199,200,201,202,203,204,205,206,207,208,209,210,211,212,213,214,215,216,217,218,219,220,221,222,223,224,225,226,227,228,229,230,231,232,233,234,235,236,237,238,239,240,241,242,243,244,245,246,247,248,249,250,251,252,253,254,255,256,257,258,259,260,261,262,263,264,265,266,267,268,269,270,271,272,273,274,275,276,277,278,279,280,281,282,283,284,285,286,287,288,289,290,291,292,293,294,295,296,297,298,299,300,301,302,303,304,305,306,307,308,309,310,311,312,313,314,315,316,317,318,319,320,321,322,323,324,325,326,327,328,329,330,331,332,333,334,335,336,337,338,339,340,341,342,343,344,345,346,347,348,349,350,351,352,353,354,355,356,357,358,359,360,361,362,363,364,365,366,367,368,369,370,371,372,373,374,375,376,377,378,379,380,381,382,383,384,385,386,387,388,389,390,391,392,393,394,395,396,397,398,399,400,401,402,403,404,405,406,407,408,409,410,411,412,413,414,415,416,417,418,419,420,421,422,423,424,425,426,427,428,429,430,431,432,433,434,435,436,437,438,439,440,441,442,443,444,445]}},\"id\":\"12762440-af38-45f2-9745-53bc6334f1ef\",\"type\":\"ColumnDataSource\"},{\"attributes\":{\"callback\":null,\"plot\":{\"id\":\"37d4c39a-e5c1-418c-96cd-94987ab96129\",\"subtype\":\"Figure\",\"type\":\"Plot\"},\"tooltips\":[[\"Municipality_id\",\"@Region\"],[\"Gini\",\"@gini\"],[\"Total population\",\"@folketall\"]]},\"id\":\"e883d9fa-156f-4f6b-9fc6-3bca0b3e754a\",\"type\":\"HoverTool\"},{\"attributes\":{},\"id\":\"134fd76c-086c-4551-84f9-667b9e3a936a\",\"type\":\"ToolEvents\"},{\"attributes\":{\"fill_alpha\":{\"value\":0.1},\"fill_color\":{\"value\":\"#1f77b4\"},\"line_alpha\":{\"value\":0.1},\"line_color\":{\"value\":\"#1f77b4\"},\"x\":{\"field\":\"folketall\"},\"y\":{\"field\":\"gini\"}},\"id\":\"4781d34d-5456-4484-9e55-b67f7247d827\",\"type\":\"Circle\"},{\"attributes\":{},\"id\":\"b4352b48-660a-41d7-9bbf-ac62fdc37354\",\"type\":\"BasicTicker\"},{\"attributes\":{\"active_drag\":\"auto\",\"active_scroll\":\"auto\",\"active_tap\":\"auto\",\"tools\":[{\"id\":\"e883d9fa-156f-4f6b-9fc6-3bca0b3e754a\",\"type\":\"HoverTool\"}]},\"id\":\"8987b103-6e5c-45af-a92a-76dc9c83ffb4\",\"type\":\"Toolbar\"},{\"attributes\":{\"callback\":null},\"id\":\"5722d2b2-5ec0-4763-98ff-a8bca1817ba2\",\"type\":\"DataRange1d\"},{\"attributes\":{\"plot\":null,\"text\":\"Municipality size and income inequality in Norway\"},\"id\":\"27ffd7a7-e0f0-4a6e-9822-5bfa6ab0872c\",\"type\":\"Title\"},{\"attributes\":{\"fill_color\":{\"value\":\"#1f77b4\"},\"line_color\":{\"value\":\"#1f77b4\"},\"x\":{\"field\":\"folketall\"},\"y\":{\"field\":\"gini\"}},\"id\":\"89fd8dc5-3fa8-4e57-ae75-87658a7577a0\",\"type\":\"Circle\"},{\"attributes\":{\"callback\":null},\"id\":\"8b4fbdf5-51e4-465b-89b2-c37a2cd364eb\",\"type\":\"DataRange1d\"},{\"attributes\":{\"dimension\":1,\"plot\":{\"id\":\"37d4c39a-e5c1-418c-96cd-94987ab96129\",\"subtype\":\"Figure\",\"type\":\"Plot\"},\"ticker\":{\"id\":\"b4352b48-660a-41d7-9bbf-ac62fdc37354\",\"type\":\"BasicTicker\"}},\"id\":\"2389836a-e3a0-4e63-96df-12b069e20087\",\"type\":\"Grid\"},{\"attributes\":{\"data_source\":{\"id\":\"12762440-af38-45f2-9745-53bc6334f1ef\",\"type\":\"ColumnDataSource\"},\"glyph\":{\"id\":\"89fd8dc5-3fa8-4e57-ae75-87658a7577a0\",\"type\":\"Circle\"},\"hover_glyph\":null,\"muted_glyph\":null,\"nonselection_glyph\":{\"id\":\"4781d34d-5456-4484-9e55-b67f7247d827\",\"type\":\"Circle\"},\"selection_glyph\":null},\"id\":\"c6e6f228-bada-4a60-b274-bb491f982e31\",\"type\":\"GlyphRenderer\"},{\"attributes\":{\"axis_label\":\"Municipality size\",\"formatter\":{\"id\":\"fa95aefa-b389-4cc3-a4bd-17936ff22e73\",\"type\":\"LogTickFormatter\"},\"plot\":{\"id\":\"37d4c39a-e5c1-418c-96cd-94987ab96129\",\"subtype\":\"Figure\",\"type\":\"Plot\"},\"ticker\":{\"id\":\"9e2ec460-29b5-433b-a43d-2280378175e7\",\"type\":\"LogTicker\"}},\"id\":\"2b5c5356-b85b-42eb-b833-5953dbc562c8\",\"type\":\"LogAxis\"},{\"attributes\":{\"num_minor_ticks\":10},\"id\":\"9e2ec460-29b5-433b-a43d-2280378175e7\",\"type\":\"LogTicker\"},{\"attributes\":{},\"id\":\"08359edf-1f4c-47d6-abd1-33d85cbf63c5\",\"type\":\"BasicTickFormatter\"},{\"attributes\":{\"ticker\":null},\"id\":\"fa95aefa-b389-4cc3-a4bd-17936ff22e73\",\"type\":\"LogTickFormatter\"},{\"attributes\":{\"below\":[{\"id\":\"2b5c5356-b85b-42eb-b833-5953dbc562c8\",\"type\":\"LogAxis\"}],\"left\":[{\"id\":\"4662880e-5c7f-4a3d-a3a5-f12402e7d1b5\",\"type\":\"LinearAxis\"}],\"renderers\":[{\"id\":\"2b5c5356-b85b-42eb-b833-5953dbc562c8\",\"type\":\"LogAxis\"},{\"id\":\"172fb6cf-fc3f-48a9-83c1-277b231ba037\",\"type\":\"Grid\"},{\"id\":\"4662880e-5c7f-4a3d-a3a5-f12402e7d1b5\",\"type\":\"LinearAxis\"},{\"id\":\"2389836a-e3a0-4e63-96df-12b069e20087\",\"type\":\"Grid\"},{\"id\":\"c6e6f228-bada-4a60-b274-bb491f982e31\",\"type\":\"GlyphRenderer\"}],\"title\":{\"id\":\"27ffd7a7-e0f0-4a6e-9822-5bfa6ab0872c\",\"type\":\"Title\"},\"tool_events\":{\"id\":\"134fd76c-086c-4551-84f9-667b9e3a936a\",\"type\":\"ToolEvents\"},\"toolbar\":{\"id\":\"8987b103-6e5c-45af-a92a-76dc9c83ffb4\",\"type\":\"Toolbar\"},\"x_mapper_type\":\"log\",\"x_range\":{\"id\":\"5722d2b2-5ec0-4763-98ff-a8bca1817ba2\",\"type\":\"DataRange1d\"},\"y_range\":{\"id\":\"8b4fbdf5-51e4-465b-89b2-c37a2cd364eb\",\"type\":\"DataRange1d\"}},\"id\":\"37d4c39a-e5c1-418c-96cd-94987ab96129\",\"subtype\":\"Figure\",\"type\":\"Plot\"},{\"attributes\":{\"plot\":{\"id\":\"37d4c39a-e5c1-418c-96cd-94987ab96129\",\"subtype\":\"Figure\",\"type\":\"Plot\"},\"ticker\":{\"id\":\"9e2ec460-29b5-433b-a43d-2280378175e7\",\"type\":\"LogTicker\"}},\"id\":\"172fb6cf-fc3f-48a9-83c1-277b231ba037\",\"type\":\"Grid\"},{\"attributes\":{\"axis_label\":\"Gini coefficient\",\"formatter\":{\"id\":\"08359edf-1f4c-47d6-abd1-33d85cbf63c5\",\"type\":\"BasicTickFormatter\"},\"plot\":{\"id\":\"37d4c39a-e5c1-418c-96cd-94987ab96129\",\"subtype\":\"Figure\",\"type\":\"Plot\"},\"ticker\":{\"id\":\"b4352b48-660a-41d7-9bbf-ac62fdc37354\",\"type\":\"BasicTicker\"}},\"id\":\"4662880e-5c7f-4a3d-a3a5-f12402e7d1b5\",\"type\":\"LinearAxis\"}],\"root_ids\":[\"37d4c39a-e5c1-418c-96cd-94987ab96129\"]},\"title\":\"Bokeh Application\",\"version\":\"0.12.5\"}};\n",
       "            var render_items = [{\"docid\":\"729093a1-8c8d-4c53-9d97-0ea69192164e\",\"elementid\":\"b2db7998-11d6-4430-8c38-0ede93e0c44d\",\"modelid\":\"37d4c39a-e5c1-418c-96cd-94987ab96129\"}];\n",
       "            \n",
       "            Bokeh.embed.embed_items(docs_json, render_items);\n",
       "          };\n",
       "          if (document.readyState != \"loading\") fn();\n",
       "          else document.addEventListener(\"DOMContentLoaded\", fn);\n",
       "        })();\n",
       "      },\n",
       "      function(Bokeh) {\n",
       "      }\n",
       "    ];\n",
       "  \n",
       "    function run_inline_js() {\n",
       "      \n",
       "      if ((window.Bokeh !== undefined) || (force === true)) {\n",
       "        for (var i = 0; i < inline_js.length; i++) {\n",
       "          inline_js[i](window.Bokeh);\n",
       "        }if (force === true) {\n",
       "          display_loaded();\n",
       "        }} else if (Date.now() < window._bokeh_timeout) {\n",
       "        setTimeout(run_inline_js, 100);\n",
       "      } else if (!window._bokeh_failed_load) {\n",
       "        console.log(\"Bokeh: BokehJS failed to load within specified timeout.\");\n",
       "        window._bokeh_failed_load = true;\n",
       "      } else if (force !== true) {\n",
       "        var cell = $(document.getElementById(\"b2db7998-11d6-4430-8c38-0ede93e0c44d\")).parents('.cell').data().cell;\n",
       "        cell.output_area.append_execute_result(NB_LOAD_WARNING)\n",
       "      }\n",
       "  \n",
       "    }\n",
       "  \n",
       "    if (window._bokeh_is_loading === 0) {\n",
       "      console.log(\"Bokeh: BokehJS loaded, going straight to plotting\");\n",
       "      run_inline_js();\n",
       "    } else {\n",
       "      load_libs(js_urls, function() {\n",
       "        console.log(\"Bokeh: BokehJS plotting callback run at\", now());\n",
       "        run_inline_js();\n",
       "      });\n",
       "    }\n",
       "  }(this));\n",
       "</script>"
      ]
     },
     "metadata": {},
     "output_type": "display_data"
    }
   ],
   "source": [
    "source = ColumnDataSource(data=ad2)\n",
    "p = figure(tools=[pop_hover],\n",
    "           x_axis_type='log', \n",
    "           x_axis_label=\"Municipality size\", \n",
    "           y_axis_label=\"Gini coefficient\", \n",
    "           title=\"Municipality size and income inequality in Norway\")\n",
    "p.circle(x='folketall', y='gini', source=source)\n",
    "show(p)"
   ]
  },
  {
   "cell_type": "markdown",
   "metadata": {},
   "source": [
    "## Population density vs inequality"
   ]
  },
  {
   "cell_type": "markdown",
   "metadata": {},
   "source": [
    "We don't really expect any widely different result here, because municipality size and population size is strongly correlated."
   ]
  },
  {
   "cell_type": "markdown",
   "metadata": {},
   "source": [
    "Basically repeat the process, but with population density data. Density as frequency must be calculated as number of people living in densely populated areas vs total number of people in municipality. This is achieved through two separate queries, and the results are merged."
   ]
  },
  {
   "cell_type": "code",
   "execution_count": 20,
   "metadata": {
    "collapsed": false,
    "deletable": true,
    "editable": true
   },
   "outputs": [],
   "source": [
    "D_URL = 'http://data.ssb.no/api/v0/no/table/05212'\n",
    "D_PAYLOAD1 = {\n",
    "  \"query\": [\n",
    "    {\n",
    "      \"code\": \"Region\",\n",
    "      \"selection\": {\n",
    "        \"filter\": \"all\",\n",
    "        \"values\": [\n",
    "          \"*\"\n",
    "        ]\n",
    "      }\n",
    "    },\n",
    "    {\n",
    "      \"code\": \"TettSpredt\",\n",
    "      \"selection\": {\n",
    "        \"filter\": \"item\",\n",
    "        \"values\": [\n",
    "          \"10\"\n",
    "        ]\n",
    "      }\n",
    "    },\n",
    "    {\n",
    "      \"code\": \"ContentsCode\",\n",
    "      \"selection\": {\n",
    "        \"filter\": \"item\",\n",
    "        \"values\": [\n",
    "          \"Folkemengde\"\n",
    "        ]\n",
    "      }\n",
    "    },\n",
    "    {\n",
    "      \"code\": \"Tid\",\n",
    "      \"selection\": {\n",
    "        \"filter\": \"top\",\n",
    "        \"values\": [\n",
    "            1\n",
    "        ]\n",
    "      }\n",
    "    }\n",
    "  ],\n",
    "  \"response\": {\n",
    "    \"format\": \"json-stat\"\n",
    "  }\n",
    "}\n",
    "\n",
    "\n",
    "D_PAYLOAD2 = {\n",
    "  \"query\": [\n",
    "    {\n",
    "      \"code\": \"Region\",\n",
    "      \"selection\": {\n",
    "        \"filter\": \"all\",\n",
    "        \"values\": [\n",
    "          \"*\"\n",
    "        ]\n",
    "      }\n",
    "    },\n",
    "    {\n",
    "      \"code\": \"ContentsCode\",\n",
    "      \"selection\": {\n",
    "        \"filter\": \"item\",\n",
    "        \"values\": [\n",
    "          \"Folkemengde\"\n",
    "        ]\n",
    "      }\n",
    "    },\n",
    "    {\n",
    "      \"code\": \"Tid\",\n",
    "      \"selection\": {\n",
    "        \"filter\": \"top\",\n",
    "        \"values\": [\n",
    "            1\n",
    "        ]\n",
    "      }\n",
    "    }\n",
    "  ],\n",
    "  \"response\": {\n",
    "    \"format\": \"json-stat\"\n",
    "  }\n",
    "}\n"
   ]
  },
  {
   "cell_type": "code",
   "execution_count": 21,
   "metadata": {
    "collapsed": true,
    "deletable": true,
    "editable": true
   },
   "outputs": [],
   "source": [
    "densedata = requests.post(D_URL, json=D_PAYLOAD1)"
   ]
  },
  {
   "cell_type": "code",
   "execution_count": 22,
   "metadata": {
    "collapsed": true,
    "deletable": true,
    "editable": true
   },
   "outputs": [],
   "source": [
    "totaldata = requests.post(D_URL, json=D_PAYLOAD2)"
   ]
  },
  {
   "cell_type": "code",
   "execution_count": 23,
   "metadata": {
    "collapsed": true,
    "deletable": true,
    "editable": true
   },
   "outputs": [],
   "source": [
    "densedf = pyjstat.from_json_stat(densedata.json(object_pairs_hook=OrderedDict), naming='id')[0]\n",
    "totaldf = pyjstat.from_json_stat(totaldata.json(object_pairs_hook=OrderedDict), naming='id')[0]"
   ]
  },
  {
   "cell_type": "code",
   "execution_count": 42,
   "metadata": {
    "collapsed": false,
    "deletable": true,
    "editable": true
   },
   "outputs": [],
   "source": [
    "# Filter rows that are not munuipalities - area totals and country as a whole\n",
    "densedf = densedf[densedf['Region'].str.len()==4]\n",
    "totaldf = totaldf[totaldf['Region'].str.len()==4]"
   ]
  },
  {
   "cell_type": "code",
   "execution_count": 25,
   "metadata": {
    "collapsed": true,
    "deletable": true,
    "editable": true
   },
   "outputs": [],
   "source": [
    "densedf.drop([\"ContentsCode\", 'Tid', 'TettSpredt'], axis=1, inplace=True)\n",
    "totaldf.drop([\"ContentsCode\", \"Tid\"], axis=1, inplace=True)\n",
    "densedf.rename(columns={'value': 'tettbygd'}, inplace=True)\n",
    "totaldf.rename(columns={'value':'totalt'}, inplace=True)"
   ]
  },
  {
   "cell_type": "code",
   "execution_count": 26,
   "metadata": {
    "collapsed": true,
    "deletable": true,
    "editable": true
   },
   "outputs": [],
   "source": [
    "denseshare_df = pd.merge(densedf, totaldf, on='Region')\n",
    "denseshare_df['denseshare'] = denseshare_df['tettbygd']/denseshare_df['totalt']"
   ]
  },
  {
   "cell_type": "code",
   "execution_count": 27,
   "metadata": {
    "collapsed": false,
    "deletable": true,
    "editable": true
   },
   "outputs": [
    {
     "data": {
      "text/html": [
       "<div>\n",
       "<style scoped>\n",
       "    .dataframe tbody tr th:only-of-type {\n",
       "        vertical-align: middle;\n",
       "    }\n",
       "\n",
       "    .dataframe tbody tr th {\n",
       "        vertical-align: top;\n",
       "    }\n",
       "\n",
       "    .dataframe thead th {\n",
       "        text-align: right;\n",
       "    }\n",
       "</style>\n",
       "<table border=\"1\" class=\"dataframe\">\n",
       "  <thead>\n",
       "    <tr style=\"text-align: right;\">\n",
       "      <th></th>\n",
       "      <th>Region</th>\n",
       "      <th>tettbygd</th>\n",
       "      <th>totalt</th>\n",
       "      <th>denseshare</th>\n",
       "    </tr>\n",
       "  </thead>\n",
       "  <tbody>\n",
       "    <tr>\n",
       "      <th>0</th>\n",
       "      <td>0101</td>\n",
       "      <td>26491</td>\n",
       "      <td>30544</td>\n",
       "      <td>0.867306</td>\n",
       "    </tr>\n",
       "    <tr>\n",
       "      <th>1</th>\n",
       "      <td>0102</td>\n",
       "      <td>0</td>\n",
       "      <td>0</td>\n",
       "      <td>NaN</td>\n",
       "    </tr>\n",
       "    <tr>\n",
       "      <th>2</th>\n",
       "      <td>0103</td>\n",
       "      <td>0</td>\n",
       "      <td>0</td>\n",
       "      <td>NaN</td>\n",
       "    </tr>\n",
       "    <tr>\n",
       "      <th>3</th>\n",
       "      <td>0104</td>\n",
       "      <td>31634</td>\n",
       "      <td>32182</td>\n",
       "      <td>0.982972</td>\n",
       "    </tr>\n",
       "    <tr>\n",
       "      <th>4</th>\n",
       "      <td>0105</td>\n",
       "      <td>49584</td>\n",
       "      <td>54678</td>\n",
       "      <td>0.906836</td>\n",
       "    </tr>\n",
       "  </tbody>\n",
       "</table>\n",
       "</div>"
      ],
      "text/plain": [
       "  Region  tettbygd  totalt  denseshare\n",
       "0   0101     26491   30544    0.867306\n",
       "1   0102         0       0         NaN\n",
       "2   0103         0       0         NaN\n",
       "3   0104     31634   32182    0.982972\n",
       "4   0105     49584   54678    0.906836"
      ]
     },
     "execution_count": 27,
     "metadata": {},
     "output_type": "execute_result"
    }
   ],
   "source": [
    "denseshare_df.head()"
   ]
  },
  {
   "cell_type": "code",
   "execution_count": 28,
   "metadata": {
    "collapsed": true,
    "deletable": true,
    "editable": true
   },
   "outputs": [],
   "source": [
    "dense_gini_df = pd.merge(denseshare_df, ginidf, on='Region')"
   ]
  },
  {
   "cell_type": "code",
   "execution_count": 29,
   "metadata": {
    "collapsed": false,
    "deletable": true,
    "editable": true
   },
   "outputs": [
    {
     "data": {
      "text/html": [
       "<div>\n",
       "<style scoped>\n",
       "    .dataframe tbody tr th:only-of-type {\n",
       "        vertical-align: middle;\n",
       "    }\n",
       "\n",
       "    .dataframe tbody tr th {\n",
       "        vertical-align: top;\n",
       "    }\n",
       "\n",
       "    .dataframe thead th {\n",
       "        text-align: right;\n",
       "    }\n",
       "</style>\n",
       "<table border=\"1\" class=\"dataframe\">\n",
       "  <thead>\n",
       "    <tr style=\"text-align: right;\">\n",
       "      <th></th>\n",
       "      <th>Region</th>\n",
       "      <th>tettbygd</th>\n",
       "      <th>totalt</th>\n",
       "      <th>denseshare</th>\n",
       "      <th>gini</th>\n",
       "    </tr>\n",
       "  </thead>\n",
       "  <tbody>\n",
       "    <tr>\n",
       "      <th>0</th>\n",
       "      <td>0101</td>\n",
       "      <td>26491</td>\n",
       "      <td>30544</td>\n",
       "      <td>0.867306</td>\n",
       "      <td>0.232</td>\n",
       "    </tr>\n",
       "    <tr>\n",
       "      <th>1</th>\n",
       "      <td>0104</td>\n",
       "      <td>31634</td>\n",
       "      <td>32182</td>\n",
       "      <td>0.982972</td>\n",
       "      <td>0.253</td>\n",
       "    </tr>\n",
       "    <tr>\n",
       "      <th>2</th>\n",
       "      <td>0105</td>\n",
       "      <td>49584</td>\n",
       "      <td>54678</td>\n",
       "      <td>0.906836</td>\n",
       "      <td>0.231</td>\n",
       "    </tr>\n",
       "    <tr>\n",
       "      <th>3</th>\n",
       "      <td>0106</td>\n",
       "      <td>72937</td>\n",
       "      <td>78967</td>\n",
       "      <td>0.923639</td>\n",
       "      <td>0.240</td>\n",
       "    </tr>\n",
       "    <tr>\n",
       "      <th>4</th>\n",
       "      <td>0111</td>\n",
       "      <td>2675</td>\n",
       "      <td>4511</td>\n",
       "      <td>0.592995</td>\n",
       "      <td>0.247</td>\n",
       "    </tr>\n",
       "  </tbody>\n",
       "</table>\n",
       "</div>"
      ],
      "text/plain": [
       "  Region  tettbygd  totalt  denseshare   gini\n",
       "0   0101     26491   30544    0.867306  0.232\n",
       "1   0104     31634   32182    0.982972  0.253\n",
       "2   0105     49584   54678    0.906836  0.231\n",
       "3   0106     72937   78967    0.923639  0.240\n",
       "4   0111      2675    4511    0.592995  0.247"
      ]
     },
     "execution_count": 29,
     "metadata": {},
     "output_type": "execute_result"
    }
   ],
   "source": [
    "dense_gini_df.head()"
   ]
  },
  {
   "cell_type": "markdown",
   "metadata": {},
   "source": [
    "## Visualization"
   ]
  },
  {
   "cell_type": "code",
   "execution_count": 37,
   "metadata": {
    "collapsed": false
   },
   "outputs": [],
   "source": [
    "hover = HoverTool(tooltips=[\n",
    "    (\"Municipality_id\", \"@Region\"),\n",
    "    (\"Gini\", \"@gini\"),\n",
    "    (\"Total population\", \"@totalt\")\n",
    "])"
   ]
  },
  {
   "cell_type": "code",
   "execution_count": 39,
   "metadata": {
    "collapsed": false,
    "deletable": true,
    "editable": true
   },
   "outputs": [
    {
     "data": {
      "text/html": [
       "\n",
       "\n",
       "    <div class=\"bk-root\">\n",
       "        <div class=\"bk-plotdiv\" id=\"de3b73e9-38aa-4877-b7e1-4c0878b5eeea\"></div>\n",
       "    </div>\n",
       "<script type=\"text/javascript\">\n",
       "  \n",
       "  (function(global) {\n",
       "    function now() {\n",
       "      return new Date();\n",
       "    }\n",
       "  \n",
       "    var force = false;\n",
       "  \n",
       "    if (typeof (window._bokeh_onload_callbacks) === \"undefined\" || force === true) {\n",
       "      window._bokeh_onload_callbacks = [];\n",
       "      window._bokeh_is_loading = undefined;\n",
       "    }\n",
       "  \n",
       "  \n",
       "    \n",
       "    if (typeof (window._bokeh_timeout) === \"undefined\" || force === true) {\n",
       "      window._bokeh_timeout = Date.now() + 0;\n",
       "      window._bokeh_failed_load = false;\n",
       "    }\n",
       "  \n",
       "    var NB_LOAD_WARNING = {'data': {'text/html':\n",
       "       \"<div style='background-color: #fdd'>\\n\"+\n",
       "       \"<p>\\n\"+\n",
       "       \"BokehJS does not appear to have successfully loaded. If loading BokehJS from CDN, this \\n\"+\n",
       "       \"may be due to a slow or bad network connection. Possible fixes:\\n\"+\n",
       "       \"</p>\\n\"+\n",
       "       \"<ul>\\n\"+\n",
       "       \"<li>re-rerun `output_notebook()` to attempt to load from CDN again, or</li>\\n\"+\n",
       "       \"<li>use INLINE resources instead, as so:</li>\\n\"+\n",
       "       \"</ul>\\n\"+\n",
       "       \"<code>\\n\"+\n",
       "       \"from bokeh.resources import INLINE\\n\"+\n",
       "       \"output_notebook(resources=INLINE)\\n\"+\n",
       "       \"</code>\\n\"+\n",
       "       \"</div>\"}};\n",
       "  \n",
       "    function display_loaded() {\n",
       "      if (window.Bokeh !== undefined) {\n",
       "        var el = document.getElementById(\"de3b73e9-38aa-4877-b7e1-4c0878b5eeea\");\n",
       "        el.textContent = \"BokehJS \" + Bokeh.version + \" successfully loaded.\";\n",
       "      } else if (Date.now() < window._bokeh_timeout) {\n",
       "        setTimeout(display_loaded, 100)\n",
       "      }\n",
       "    }\n",
       "  \n",
       "    function run_callbacks() {\n",
       "      window._bokeh_onload_callbacks.forEach(function(callback) { callback() });\n",
       "      delete window._bokeh_onload_callbacks\n",
       "      console.info(\"Bokeh: all callbacks have finished\");\n",
       "    }\n",
       "  \n",
       "    function load_libs(js_urls, callback) {\n",
       "      window._bokeh_onload_callbacks.push(callback);\n",
       "      if (window._bokeh_is_loading > 0) {\n",
       "        console.log(\"Bokeh: BokehJS is being loaded, scheduling callback at\", now());\n",
       "        return null;\n",
       "      }\n",
       "      if (js_urls == null || js_urls.length === 0) {\n",
       "        run_callbacks();\n",
       "        return null;\n",
       "      }\n",
       "      console.log(\"Bokeh: BokehJS not loaded, scheduling load and callback at\", now());\n",
       "      window._bokeh_is_loading = js_urls.length;\n",
       "      for (var i = 0; i < js_urls.length; i++) {\n",
       "        var url = js_urls[i];\n",
       "        var s = document.createElement('script');\n",
       "        s.src = url;\n",
       "        s.async = false;\n",
       "        s.onreadystatechange = s.onload = function() {\n",
       "          window._bokeh_is_loading--;\n",
       "          if (window._bokeh_is_loading === 0) {\n",
       "            console.log(\"Bokeh: all BokehJS libraries loaded\");\n",
       "            run_callbacks()\n",
       "          }\n",
       "        };\n",
       "        s.onerror = function() {\n",
       "          console.warn(\"failed to load library \" + url);\n",
       "        };\n",
       "        console.log(\"Bokeh: injecting script tag for BokehJS library: \", url);\n",
       "        document.getElementsByTagName(\"head\")[0].appendChild(s);\n",
       "      }\n",
       "    };var element = document.getElementById(\"de3b73e9-38aa-4877-b7e1-4c0878b5eeea\");\n",
       "    if (element == null) {\n",
       "      console.log(\"Bokeh: ERROR: autoload.js configured with elementid 'de3b73e9-38aa-4877-b7e1-4c0878b5eeea' but no matching script tag was found. \")\n",
       "      return false;\n",
       "    }\n",
       "  \n",
       "    var js_urls = [];\n",
       "  \n",
       "    var inline_js = [\n",
       "      function(Bokeh) {\n",
       "        (function() {\n",
       "          var fn = function() {\n",
       "            var docs_json = {\"43122bf9-e7b3-4834-8b94-b31179557b53\":{\"roots\":{\"references\":[{\"attributes\":{\"callback\":null},\"id\":\"abf2f9d4-21f8-4e54-be6e-db8f60440979\",\"type\":\"DataRange1d\"},{\"attributes\":{\"axis_label\":\"Share of population living in dense areas\",\"formatter\":{\"id\":\"93c19e56-7926-4100-9bd8-b3922ce3792d\",\"type\":\"BasicTickFormatter\"},\"plot\":{\"id\":\"4688a559-ce29-4645-9c51-6591903368fb\",\"subtype\":\"Figure\",\"type\":\"Plot\"},\"ticker\":{\"id\":\"eba0fc45-92a2-46be-97a1-955727e45d32\",\"type\":\"BasicTicker\"}},\"id\":\"3d3f0a9f-7f8f-4178-b322-9a94681ce3e2\",\"type\":\"LinearAxis\"},{\"attributes\":{},\"id\":\"eba0fc45-92a2-46be-97a1-955727e45d32\",\"type\":\"BasicTicker\"},{\"attributes\":{\"plot\":{\"id\":\"4688a559-ce29-4645-9c51-6591903368fb\",\"subtype\":\"Figure\",\"type\":\"Plot\"},\"ticker\":{\"id\":\"eba0fc45-92a2-46be-97a1-955727e45d32\",\"type\":\"BasicTicker\"}},\"id\":\"2170dc91-e524-4104-b1d1-2e1dbe35f7d2\",\"type\":\"Grid\"},{\"attributes\":{\"axis_label\":\"Gini coefficient\",\"formatter\":{\"id\":\"a427e280-5513-438f-bbf2-06e25b2b418d\",\"type\":\"BasicTickFormatter\"},\"plot\":{\"id\":\"4688a559-ce29-4645-9c51-6591903368fb\",\"subtype\":\"Figure\",\"type\":\"Plot\"},\"ticker\":{\"id\":\"deea241a-5ebd-4e14-b48b-eb9368aa988f\",\"type\":\"BasicTicker\"}},\"id\":\"49623525-606d-4033-a545-0d2849d2b015\",\"type\":\"LinearAxis\"},{\"attributes\":{},\"id\":\"deea241a-5ebd-4e14-b48b-eb9368aa988f\",\"type\":\"BasicTicker\"},{\"attributes\":{\"dimension\":1,\"plot\":{\"id\":\"4688a559-ce29-4645-9c51-6591903368fb\",\"subtype\":\"Figure\",\"type\":\"Plot\"},\"ticker\":{\"id\":\"deea241a-5ebd-4e14-b48b-eb9368aa988f\",\"type\":\"BasicTicker\"}},\"id\":\"1be0834e-192b-4ade-a4a1-afc7f864e476\",\"type\":\"Grid\"},{\"attributes\":{\"fill_alpha\":{\"value\":0.1},\"fill_color\":{\"value\":\"#1f77b4\"},\"line_alpha\":{\"value\":0.1},\"line_color\":{\"value\":\"#1f77b4\"},\"x\":{\"field\":\"denseshare\"},\"y\":{\"field\":\"gini\"}},\"id\":\"966ba48e-4a6d-4d43-b357-478d9c2de499\",\"type\":\"Circle\"},{\"attributes\":{\"data_source\":{\"id\":\"5bb2d46d-439f-46db-b3f7-ab0c48ccda45\",\"type\":\"ColumnDataSource\"},\"glyph\":{\"id\":\"981d33a1-8482-4fdd-b488-4941d2ceb209\",\"type\":\"Circle\"},\"hover_glyph\":null,\"muted_glyph\":null,\"nonselection_glyph\":{\"id\":\"966ba48e-4a6d-4d43-b357-478d9c2de499\",\"type\":\"Circle\"},\"selection_glyph\":null},\"id\":\"115b1cbc-9849-41c8-a40a-a6606b465db7\",\"type\":\"GlyphRenderer\"},{\"attributes\":{},\"id\":\"93c19e56-7926-4100-9bd8-b3922ce3792d\",\"type\":\"BasicTickFormatter\"},{\"attributes\":{},\"id\":\"a427e280-5513-438f-bbf2-06e25b2b418d\",\"type\":\"BasicTickFormatter\"},{\"attributes\":{\"below\":[{\"id\":\"3d3f0a9f-7f8f-4178-b322-9a94681ce3e2\",\"type\":\"LinearAxis\"}],\"left\":[{\"id\":\"49623525-606d-4033-a545-0d2849d2b015\",\"type\":\"LinearAxis\"}],\"renderers\":[{\"id\":\"3d3f0a9f-7f8f-4178-b322-9a94681ce3e2\",\"type\":\"LinearAxis\"},{\"id\":\"2170dc91-e524-4104-b1d1-2e1dbe35f7d2\",\"type\":\"Grid\"},{\"id\":\"49623525-606d-4033-a545-0d2849d2b015\",\"type\":\"LinearAxis\"},{\"id\":\"1be0834e-192b-4ade-a4a1-afc7f864e476\",\"type\":\"Grid\"},{\"id\":\"115b1cbc-9849-41c8-a40a-a6606b465db7\",\"type\":\"GlyphRenderer\"}],\"title\":{\"id\":\"7dd65dd6-74c3-4f96-94e5-2dde34e6d1f3\",\"type\":\"Title\"},\"tool_events\":{\"id\":\"9e721d9a-8d37-410b-8935-f36c51fa5c1c\",\"type\":\"ToolEvents\"},\"toolbar\":{\"id\":\"6e117c69-9fd2-4de1-94f7-59583a83cb72\",\"type\":\"Toolbar\"},\"x_range\":{\"id\":\"f9697f0e-e706-445a-829a-ed32b92e5272\",\"type\":\"DataRange1d\"},\"y_range\":{\"id\":\"abf2f9d4-21f8-4e54-be6e-db8f60440979\",\"type\":\"DataRange1d\"}},\"id\":\"4688a559-ce29-4645-9c51-6591903368fb\",\"subtype\":\"Figure\",\"type\":\"Plot\"},{\"attributes\":{\"callback\":null,\"column_names\":[\"Region\",\"tettbygd\",\"totalt\",\"denseshare\",\"gini\",\"index\"],\"data\":{\"Region\":[\"0101\",\"0104\",\"0105\",\"0106\",\"0111\",\"0118\",\"0119\",\"0121\",\"0122\",\"0123\",\"0124\",\"0125\",\"0127\",\"0128\",\"0135\",\"0136\",\"0137\",\"0138\",\"0211\",\"0213\",\"0214\",\"0215\",\"0216\",\"0217\",\"0219\",\"0220\",\"0221\",\"0226\",\"0227\",\"0228\",\"0229\",\"0230\",\"0231\",\"0233\",\"0234\",\"0235\",\"0236\",\"0237\",\"0238\",\"0239\",\"0301\",\"0402\",\"0403\",\"0412\",\"0415\",\"0417\",\"0418\",\"0419\",\"0420\",\"0423\",\"0425\",\"0426\",\"0427\",\"0428\",\"0429\",\"0430\",\"0432\",\"0434\",\"0436\",\"0437\",\"0438\",\"0439\",\"0441\",\"0501\",\"0502\",\"0511\",\"0512\",\"0513\",\"0514\",\"0515\",\"0516\",\"0517\",\"0519\",\"0520\",\"0521\",\"0522\",\"0528\",\"0529\",\"0532\",\"0533\",\"0534\",\"0536\",\"0538\",\"0540\",\"0541\",\"0542\",\"0543\",\"0544\",\"0545\",\"0602\",\"0604\",\"0605\",\"0612\",\"0615\",\"0616\",\"0617\",\"0618\",\"0619\",\"0620\",\"0621\",\"0622\",\"0623\",\"0624\",\"0625\",\"0626\",\"0627\",\"0628\",\"0631\",\"0632\",\"0633\",\"0701\",\"0702\",\"0704\",\"0706\",\"0709\",\"0710\",\"0711\",\"0713\",\"0714\",\"0716\",\"0719\",\"0720\",\"0722\",\"0723\",\"0728\",\"0805\",\"0806\",\"0807\",\"0811\",\"0814\",\"0815\",\"0817\",\"0819\",\"0821\",\"0822\",\"0826\",\"0827\",\"0828\",\"0829\",\"0830\",\"0831\",\"0833\",\"0834\",\"0901\",\"0904\",\"0906\",\"0911\",\"0912\",\"0914\",\"0919\",\"0926\",\"0928\",\"0929\",\"0935\",\"0937\",\"0938\",\"0940\",\"0941\",\"1001\",\"1002\",\"1003\",\"1004\",\"1014\",\"1017\",\"1018\",\"1021\",\"1026\",\"1027\",\"1029\",\"1032\",\"1034\",\"1037\",\"1046\",\"1101\",\"1102\",\"1103\",\"1106\",\"1111\",\"1112\",\"1114\",\"1119\",\"1120\",\"1121\",\"1122\",\"1124\",\"1127\",\"1129\",\"1130\",\"1133\",\"1134\",\"1135\",\"1141\",\"1142\",\"1144\",\"1145\",\"1146\",\"1149\",\"1151\",\"1154\",\"1159\",\"1160\",\"1201\",\"1211\",\"1216\",\"1219\",\"1221\",\"1222\",\"1223\",\"1224\",\"1227\",\"1228\",\"1231\",\"1232\",\"1233\",\"1234\",\"1235\",\"1238\",\"1241\",\"1242\",\"1243\",\"1244\",\"1245\",\"1246\",\"1247\",\"1251\",\"1252\",\"1253\",\"1256\",\"1259\",\"1260\",\"1263\",\"1264\",\"1265\",\"1266\",\"1401\",\"1411\",\"1412\",\"1413\",\"1416\",\"1417\",\"1418\",\"1419\",\"1420\",\"1421\",\"1422\",\"1424\",\"1426\",\"1428\",\"1429\",\"1430\",\"1431\",\"1432\",\"1433\",\"1438\",\"1439\",\"1441\",\"1443\",\"1444\",\"1445\",\"1449\",\"1502\",\"1503\",\"1504\",\"1505\",\"1511\",\"1514\",\"1515\",\"1516\",\"1517\",\"1519\",\"1520\",\"1523\",\"1524\",\"1525\",\"1526\",\"1528\",\"1529\",\"1531\",\"1532\",\"1534\",\"1535\",\"1539\",\"1543\",\"1545\",\"1546\",\"1547\",\"1548\",\"1551\",\"1554\",\"1556\",\"1557\",\"1560\",\"1563\",\"1566\",\"1567\",\"1569\",\"1571\",\"1572\",\"1573\",\"1576\",\"1601\",\"1612\",\"1613\",\"1617\",\"1620\",\"1621\",\"1622\",\"1624\",\"1627\",\"1630\",\"1632\",\"1633\",\"1634\",\"1635\",\"1636\",\"1638\",\"1640\",\"1644\",\"1648\",\"1653\",\"1657\",\"1662\",\"1663\",\"1664\",\"1665\",\"1702\",\"1703\",\"1711\",\"1714\",\"1717\",\"1718\",\"1719\",\"1721\",\"1723\",\"1724\",\"1725\",\"1729\",\"1736\",\"1738\",\"1739\",\"1740\",\"1742\",\"1743\",\"1744\",\"1748\",\"1749\",\"1750\",\"1751\",\"1755\",\"1756\",\"1804\",\"1805\",\"1811\",\"1812\",\"1813\",\"1815\",\"1816\",\"1818\",\"1820\",\"1822\",\"1824\",\"1825\",\"1826\",\"1827\",\"1828\",\"1832\",\"1833\",\"1834\",\"1835\",\"1836\",\"1837\",\"1838\",\"1839\",\"1840\",\"1841\",\"1842\",\"1845\",\"1848\",\"1849\",\"1850\",\"1851\",\"1852\",\"1853\",\"1854\",\"1856\",\"1857\",\"1859\",\"1860\",\"1865\",\"1866\",\"1867\",\"1868\",\"1870\",\"1871\",\"1874\",\"1901\",\"1902\",\"1903\",\"1911\",\"1913\",\"1915\",\"1917\",\"1919\",\"1920\",\"1922\",\"1923\",\"1924\",\"1925\",\"1926\",\"1927\",\"1928\",\"1929\",\"1931\",\"1933\",\"1936\",\"1938\",\"1939\",\"1940\",\"1941\",\"1942\",\"1943\",\"2002\",\"2003\",\"2004\",\"2011\",\"2012\",\"2014\",\"2015\",\"2017\",\"2018\",\"2019\",\"2020\",\"2021\",\"2022\",\"2023\",\"2024\",\"2025\",\"2027\",\"2028\",\"2030\",\"2111\",\"2121\",\"2131\",\"2211\",\"2311\",\"2321\"],\"denseshare\":{\"__ndarray__\":\"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\",\"dtype\":\"float64\",\"shape\":[446]},\"gini\":{\"__ndarray__\":\"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\",\"dtype\":\"float64\",\"shape\":[446]},\"index\":[0,1,2,3,4,5,6,7,8,9,10,11,12,13,14,15,16,17,18,19,20,21,22,23,24,25,26,27,28,29,30,31,32,33,34,35,36,37,38,39,40,41,42,43,44,45,46,47,48,49,50,51,52,53,54,55,56,57,58,59,60,61,62,63,64,65,66,67,68,69,70,71,72,73,74,75,76,77,78,79,80,81,82,83,84,85,86,87,88,89,90,91,92,93,94,95,96,97,98,99,100,101,102,103,104,105,106,107,108,109,110,111,112,113,114,115,116,117,118,119,120,121,122,123,124,125,126,127,128,129,130,131,132,133,134,135,136,137,138,139,140,141,142,143,144,145,146,147,148,149,150,151,152,153,154,155,156,157,158,159,160,161,162,163,164,165,166,167,168,169,170,171,172,173,174,175,176,177,178,179,180,181,182,183,184,185,186,187,188,189,190,191,192,193,194,195,196,197,198,199,200,201,202,203,204,205,206,207,208,209,210,211,212,213,214,215,216,217,218,219,220,221,222,223,224,225,226,227,228,229,230,231,232,233,234,235,236,237,238,239,240,241,242,243,244,245,246,247,248,249,250,251,252,253,254,255,256,257,258,259,260,261,262,263,264,265,266,267,268,269,270,271,272,273,274,275,276,277,278,279,280,281,282,283,284,285,286,287,288,289,290,291,292,293,294,295,296,297,298,299,300,301,302,303,304,305,306,307,308,309,310,311,312,313,314,315,316,317,318,319,320,321,322,323,324,325,326,327,328,329,330,331,332,333,334,335,336,337,338,339,340,341,342,343,344,345,346,347,348,349,350,351,352,353,354,355,356,357,358,359,360,361,362,363,364,365,366,367,368,369,370,371,372,373,374,375,376,377,378,379,380,381,382,383,384,385,386,387,388,389,390,391,392,393,394,395,396,397,398,399,400,401,402,403,404,405,406,407,408,409,410,411,412,413,414,415,416,417,418,419,420,421,422,423,424,425,426,427,428,429,430,431,432,433,434,435,436,437,438,439,440,441,442,443,444,445],\"tettbygd\":[26491,31634,49584,72937,2675,344,1854,0,3033,4208,14137,7888,1672,4901,5562,13974,3357,3717,13941,27059,16002,13431,16447,26315,120595,58883,9195,14110,8878,16755,8505,35924,51419,21200,4511,30765,13549,18657,8839,981,653226,12764,26612,17547,4298,12498,1446,2929,2232,1629,2267,1430,14794,2648,2152,1188,276,0,565,2686,744,546,652,23583,22967,1256,0,650,837,1846,3341,3534,1157,2043,2788,2740,6323,9536,4638,5689,6252,2036,2913,712,0,3438,616,889,0,66466,22795,20670,4276,0,2182,2881,1535,2698,2778,423,960,9729,14168,23838,21464,18939,7739,942,288,502,25651,9183,39986,43233,36608,0,5898,6124,1612,3963,3467,8252,19579,3407,608,34294,48642,9330,1319,11693,7987,1593,3817,3561,1704,3986,0,1454,750,562,395,586,1150,4535,19069,38610,852,727,2559,2890,7810,2819,696,0,2428,365,289,646,85374,11943,6459,6670,11850,4680,9689,374,0,287,2576,5955,0,2862,886,12238,70223,131215,35995,2158,1998,1025,14686,15252,16223,10573,23159,9219,523,10167,567,1181,4254,785,2420,384,480,6415,37686,0,0,0,3559,270280,1823,1798,7509,17557,1652,1025,8594,390,6338,1072,539,516,458,8549,5807,523,1076,17077,1952,4145,18952,25032,2979,0,3903,5231,2739,1925,8415,1070,440,0,9992,575,281,0,2810,1225,809,2110,5384,829,1120,5023,1662,670,1350,786,1597,10934,1188,2087,4530,1088,3448,483,2938,3401,23485,0,44930,22240,396,1112,6528,6697,4505,6726,7138,1525,0,3192,624,5669,3296,8370,6230,5593,3992,4618,1203,539,493,1567,5214,1364,1059,0,524,975,4835,2743,683,0,0,0,0,647,181462,2529,0,1289,1296,3166,384,1917,1729,1181,0,0,4253,943,2262,8289,3818,605,2601,10087,4913,4602,11891,1165,0,13949,10571,926,15815,0,1908,13084,9944,0,1620,321,0,666,212,237,219,1352,322,1839,0,446,3084,1937,0,3229,45536,16857,508,937,5589,312,0,801,6284,687,9820,807,605,0,1388,2573,21568,473,397,0,3620,686,0,2569,7014,0,858,0,519,1187,1736,331,718,826,374,636,0,6854,6858,5579,910,2375,6691,3665,370,0,65189,20793,1790,1111,0,486,0,297,2474,797,3617,1501,0,0,381,295,6763,1506,468,800,512,525,2456,2702,396,1922,5635,10032,1421,16350,469,709,288,980,2916,2257,1801,927,798,948,732,0,2160,7872,0,0,0,0,0,0],\"totalt\":[30544,32182,54678,78967,4511,1404,3610,672,5343,5736,15615,11396,3742,8084,7357,15458,5186,5382,16732,30261,18992,15695,18623,26792,122348,60106,15914,17443,11374,17426,10870,36368,52522,22857,6323,34189,20783,23811,12267,2837,658390,17835,30120,33597,7588,20119,5131,7901,6142,4763,7456,3760,21030,6525,4429,2600,1881,1305,1620,5580,2426,1592,1956,27476,30137,2701,2055,2204,2347,3664,5741,5935,3154,4462,5072,6227,14906,13180,6629,9044,13695,5758,6751,3058,1321,6458,2168,3220,1590,67895,27013,29801,6767,1074,3422,4578,2422,4711,4497,3512,2275,13794,18205,24431,25731,21492,9413,2699,1404,2548,27178,10741,42276,45820,43867,0,6604,9297,3163,9361,5937,11657,21621,4971,2474,35955,53952,12717,2335,14088,10607,4136,6534,6101,4338,5940,1613,2991,2448,1443,1323,2246,3727,6920,22550,44313,2473,2036,6014,5618,10577,5147,1847,1317,3582,1204,1242,945,88447,15529,9705,9096,14308,6419,11260,2290,942,1750,4943,8497,1702,5981,1832,14942,74820,132644,36951,3313,3243,2825,18591,18970,18572,11853,26096,10737,1238,12464,2737,3903,4710,3221,4856,524,865,10925,42187,200,0,0,8788,277391,4106,5593,11778,18775,3140,2797,13271,1104,6930,3401,925,1116,920,14425,8475,3876,2443,19742,5118,6975,24870,28380,4125,381,7957,7812,4852,5077,15607,2858,576,1701,11923,2370,785,1395,4161,2689,1294,2298,7839,1764,2172,5359,5093,3023,2830,2942,3020,12900,2840,3846,6046,2774,6015,1200,5784,7168,26732,0,46747,24526,3256,2559,8972,8430,5189,9037,10677,2310,1652,4598,1020,7675,4620,8952,8094,9200,6611,7492,2970,2088,1270,3518,9717,3467,5826,0,2593,3103,7160,5969,2036,0,1547,0,2141,3536,187353,4260,978,4622,4799,5209,1733,6644,4779,3272,961,976,6886,2562,3954,11779,5635,2031,6298,16096,7755,6067,13738,4132,851,21781,13010,2523,23308,2631,3531,19610,14885,0,2527,1622,0,2139,1375,469,867,2466,1250,3825,633,1103,4387,5126,562,6769,50488,18787,1465,2031,7962,1244,507,1743,7437,2216,13427,1462,1465,1402,1838,4486,26039,1923,478,1268,6471,2043,1034,4700,9604,0,1963,2543,1824,1974,2144,1283,1400,2556,551,765,1336,11198,9350,8082,2632,4529,10214,4980,1062,0,73480,24695,3029,3041,0,1403,1137,1051,4019,2230,6741,3452,1158,1543,913,915,11618,5701,2282,2861,1865,2150,2920,4895,1231,2137,6160,10455,2956,20097,951,1054,1035,1215,3276,3978,2668,1318,1139,1000,2922,959,2211,10227,0,0,0,0,0,0]}},\"id\":\"5bb2d46d-439f-46db-b3f7-ab0c48ccda45\",\"type\":\"ColumnDataSource\"},{\"attributes\":{\"fill_color\":{\"value\":\"#1f77b4\"},\"line_color\":{\"value\":\"#1f77b4\"},\"x\":{\"field\":\"denseshare\"},\"y\":{\"field\":\"gini\"}},\"id\":\"981d33a1-8482-4fdd-b488-4941d2ceb209\",\"type\":\"Circle\"},{\"attributes\":{\"callback\":null,\"plot\":{\"id\":\"4688a559-ce29-4645-9c51-6591903368fb\",\"subtype\":\"Figure\",\"type\":\"Plot\"},\"tooltips\":[[\"Municipality_id\",\"@Region\"],[\"Gini\",\"@gini\"],[\"Total population\",\"@totalt\"]]},\"id\":\"cac01440-c3a0-4485-a43d-76a69597872e\",\"type\":\"HoverTool\"},{\"attributes\":{\"plot\":null,\"text\":\"Population density and income inequality in Norway\"},\"id\":\"7dd65dd6-74c3-4f96-94e5-2dde34e6d1f3\",\"type\":\"Title\"},{\"attributes\":{\"callback\":null},\"id\":\"f9697f0e-e706-445a-829a-ed32b92e5272\",\"type\":\"DataRange1d\"},{\"attributes\":{\"active_drag\":\"auto\",\"active_scroll\":\"auto\",\"active_tap\":\"auto\",\"tools\":[{\"id\":\"cac01440-c3a0-4485-a43d-76a69597872e\",\"type\":\"HoverTool\"}]},\"id\":\"6e117c69-9fd2-4de1-94f7-59583a83cb72\",\"type\":\"Toolbar\"},{\"attributes\":{},\"id\":\"9e721d9a-8d37-410b-8935-f36c51fa5c1c\",\"type\":\"ToolEvents\"}],\"root_ids\":[\"4688a559-ce29-4645-9c51-6591903368fb\"]},\"title\":\"Bokeh Application\",\"version\":\"0.12.5\"}};\n",
       "            var render_items = [{\"docid\":\"43122bf9-e7b3-4834-8b94-b31179557b53\",\"elementid\":\"de3b73e9-38aa-4877-b7e1-4c0878b5eeea\",\"modelid\":\"4688a559-ce29-4645-9c51-6591903368fb\"}];\n",
       "            \n",
       "            Bokeh.embed.embed_items(docs_json, render_items);\n",
       "          };\n",
       "          if (document.readyState != \"loading\") fn();\n",
       "          else document.addEventListener(\"DOMContentLoaded\", fn);\n",
       "        })();\n",
       "      },\n",
       "      function(Bokeh) {\n",
       "      }\n",
       "    ];\n",
       "  \n",
       "    function run_inline_js() {\n",
       "      \n",
       "      if ((window.Bokeh !== undefined) || (force === true)) {\n",
       "        for (var i = 0; i < inline_js.length; i++) {\n",
       "          inline_js[i](window.Bokeh);\n",
       "        }if (force === true) {\n",
       "          display_loaded();\n",
       "        }} else if (Date.now() < window._bokeh_timeout) {\n",
       "        setTimeout(run_inline_js, 100);\n",
       "      } else if (!window._bokeh_failed_load) {\n",
       "        console.log(\"Bokeh: BokehJS failed to load within specified timeout.\");\n",
       "        window._bokeh_failed_load = true;\n",
       "      } else if (force !== true) {\n",
       "        var cell = $(document.getElementById(\"de3b73e9-38aa-4877-b7e1-4c0878b5eeea\")).parents('.cell').data().cell;\n",
       "        cell.output_area.append_execute_result(NB_LOAD_WARNING)\n",
       "      }\n",
       "  \n",
       "    }\n",
       "  \n",
       "    if (window._bokeh_is_loading === 0) {\n",
       "      console.log(\"Bokeh: BokehJS loaded, going straight to plotting\");\n",
       "      run_inline_js();\n",
       "    } else {\n",
       "      load_libs(js_urls, function() {\n",
       "        console.log(\"Bokeh: BokehJS plotting callback run at\", now());\n",
       "        run_inline_js();\n",
       "      });\n",
       "    }\n",
       "  }(this));\n",
       "</script>"
      ]
     },
     "metadata": {},
     "output_type": "display_data"
    }
   ],
   "source": [
    "source = ColumnDataSource(data=dense_gini_df)\n",
    "p = figure(tools=[hover],\n",
    "           x_axis_label=\"Share of population living in dense areas\", \n",
    "           y_axis_label=\"Gini coefficient\", \n",
    "           title=\"Population density and income inequality in Norway\")\n",
    "p.circle(x='denseshare', y='gini', source=source)\n",
    "show(p)"
   ]
  },
  {
   "cell_type": "markdown",
   "metadata": {},
   "source": [
    "That's all, folks!"
   ]
  }
 ],
 "metadata": {
  "kernelspec": {
   "display_name": "Python 3",
   "language": "python",
   "name": "python3"
  },
  "language_info": {
   "codemirror_mode": {
    "name": "ipython",
    "version": 3
   },
   "file_extension": ".py",
   "mimetype": "text/x-python",
   "name": "python",
   "nbconvert_exporter": "python",
   "pygments_lexer": "ipython3",
   "version": "3.6.1"
  }
 },
 "nbformat": 4,
 "nbformat_minor": 2
}
