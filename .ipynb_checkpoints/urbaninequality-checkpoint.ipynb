{
 "cells": [
  {
   "cell_type": "markdown",
   "metadata": {
    "deletable": true,
    "editable": true
   },
   "source": [
    "# Plot data on inequality and size for Norwegian municipalities"
   ]
  },
  {
   "cell_type": "markdown",
   "metadata": {
    "deletable": true,
    "editable": true
   },
   "source": [
    "The theory goes that cities are drivers of economic inequality. Statistics Norway has data both on income inequality and population on a municipality level. There are currently 428 municipalities in Norway, ranging in population size from ~200 to >600 000. Most municipalities aren't cities (let alone big cities). Still, the correlation is interesting. The project is inspired by Richard Florida."
   ]
  },
  {
   "cell_type": "markdown",
   "metadata": {
    "deletable": true,
    "editable": true
   },
   "source": [
    "We start by importing some libraries."
   ]
  },
  {
   "cell_type": "code",
   "execution_count": 1,
   "metadata": {
    "collapsed": true,
    "deletable": true,
    "editable": true
   },
   "outputs": [],
   "source": [
    "from bokeh.plotting import figure, show"
   ]
  },
  {
   "cell_type": "code",
   "execution_count": 2,
   "metadata": {
    "collapsed": false,
    "deletable": true,
    "editable": true
   },
   "outputs": [
    {
     "data": {
      "text/html": [
       "\n",
       "    <div class=\"bk-root\">\n",
       "        <a href=\"http://bokeh.pydata.org\" target=\"_blank\" class=\"bk-logo bk-logo-small bk-logo-notebook\"></a>\n",
       "        <span id=\"6c6e876f-6e36-48bd-b1d8-a4135aa45c85\">Loading BokehJS ...</span>\n",
       "    </div>"
      ]
     },
     "metadata": {},
     "output_type": "display_data"
    },
    {
     "data": {
      "application/javascript": [
       "\n",
       "(function(global) {\n",
       "  function now() {\n",
       "    return new Date();\n",
       "  }\n",
       "\n",
       "  var force = true;\n",
       "\n",
       "  if (typeof (window._bokeh_onload_callbacks) === \"undefined\" || force === true) {\n",
       "    window._bokeh_onload_callbacks = [];\n",
       "    window._bokeh_is_loading = undefined;\n",
       "  }\n",
       "\n",
       "\n",
       "  \n",
       "  if (typeof (window._bokeh_timeout) === \"undefined\" || force === true) {\n",
       "    window._bokeh_timeout = Date.now() + 5000;\n",
       "    window._bokeh_failed_load = false;\n",
       "  }\n",
       "\n",
       "  var NB_LOAD_WARNING = {'data': {'text/html':\n",
       "     \"<div style='background-color: #fdd'>\\n\"+\n",
       "     \"<p>\\n\"+\n",
       "     \"BokehJS does not appear to have successfully loaded. If loading BokehJS from CDN, this \\n\"+\n",
       "     \"may be due to a slow or bad network connection. Possible fixes:\\n\"+\n",
       "     \"</p>\\n\"+\n",
       "     \"<ul>\\n\"+\n",
       "     \"<li>re-rerun `output_notebook()` to attempt to load from CDN again, or</li>\\n\"+\n",
       "     \"<li>use INLINE resources instead, as so:</li>\\n\"+\n",
       "     \"</ul>\\n\"+\n",
       "     \"<code>\\n\"+\n",
       "     \"from bokeh.resources import INLINE\\n\"+\n",
       "     \"output_notebook(resources=INLINE)\\n\"+\n",
       "     \"</code>\\n\"+\n",
       "     \"</div>\"}};\n",
       "\n",
       "  function display_loaded() {\n",
       "    if (window.Bokeh !== undefined) {\n",
       "      var el = document.getElementById(\"6c6e876f-6e36-48bd-b1d8-a4135aa45c85\");\n",
       "      el.textContent = \"BokehJS \" + Bokeh.version + \" successfully loaded.\";\n",
       "    } else if (Date.now() < window._bokeh_timeout) {\n",
       "      setTimeout(display_loaded, 100)\n",
       "    }\n",
       "  }\n",
       "\n",
       "  function run_callbacks() {\n",
       "    window._bokeh_onload_callbacks.forEach(function(callback) { callback() });\n",
       "    delete window._bokeh_onload_callbacks\n",
       "    console.info(\"Bokeh: all callbacks have finished\");\n",
       "  }\n",
       "\n",
       "  function load_libs(js_urls, callback) {\n",
       "    window._bokeh_onload_callbacks.push(callback);\n",
       "    if (window._bokeh_is_loading > 0) {\n",
       "      console.log(\"Bokeh: BokehJS is being loaded, scheduling callback at\", now());\n",
       "      return null;\n",
       "    }\n",
       "    if (js_urls == null || js_urls.length === 0) {\n",
       "      run_callbacks();\n",
       "      return null;\n",
       "    }\n",
       "    console.log(\"Bokeh: BokehJS not loaded, scheduling load and callback at\", now());\n",
       "    window._bokeh_is_loading = js_urls.length;\n",
       "    for (var i = 0; i < js_urls.length; i++) {\n",
       "      var url = js_urls[i];\n",
       "      var s = document.createElement('script');\n",
       "      s.src = url;\n",
       "      s.async = false;\n",
       "      s.onreadystatechange = s.onload = function() {\n",
       "        window._bokeh_is_loading--;\n",
       "        if (window._bokeh_is_loading === 0) {\n",
       "          console.log(\"Bokeh: all BokehJS libraries loaded\");\n",
       "          run_callbacks()\n",
       "        }\n",
       "      };\n",
       "      s.onerror = function() {\n",
       "        console.warn(\"failed to load library \" + url);\n",
       "      };\n",
       "      console.log(\"Bokeh: injecting script tag for BokehJS library: \", url);\n",
       "      document.getElementsByTagName(\"head\")[0].appendChild(s);\n",
       "    }\n",
       "  };var element = document.getElementById(\"6c6e876f-6e36-48bd-b1d8-a4135aa45c85\");\n",
       "  if (element == null) {\n",
       "    console.log(\"Bokeh: ERROR: autoload.js configured with elementid '6c6e876f-6e36-48bd-b1d8-a4135aa45c85' but no matching script tag was found. \")\n",
       "    return false;\n",
       "  }\n",
       "\n",
       "  var js_urls = [\"https://cdn.pydata.org/bokeh/release/bokeh-0.12.5.min.js\", \"https://cdn.pydata.org/bokeh/release/bokeh-widgets-0.12.5.min.js\"];\n",
       "\n",
       "  var inline_js = [\n",
       "    function(Bokeh) {\n",
       "      Bokeh.set_log_level(\"info\");\n",
       "    },\n",
       "    \n",
       "    function(Bokeh) {\n",
       "      \n",
       "    },\n",
       "    \n",
       "    function(Bokeh) {\n",
       "      \n",
       "      document.getElementById(\"6c6e876f-6e36-48bd-b1d8-a4135aa45c85\").textContent = \"BokehJS is loading...\";\n",
       "    },\n",
       "    function(Bokeh) {\n",
       "      console.log(\"Bokeh: injecting CSS: https://cdn.pydata.org/bokeh/release/bokeh-0.12.5.min.css\");\n",
       "      Bokeh.embed.inject_css(\"https://cdn.pydata.org/bokeh/release/bokeh-0.12.5.min.css\");\n",
       "      console.log(\"Bokeh: injecting CSS: https://cdn.pydata.org/bokeh/release/bokeh-widgets-0.12.5.min.css\");\n",
       "      Bokeh.embed.inject_css(\"https://cdn.pydata.org/bokeh/release/bokeh-widgets-0.12.5.min.css\");\n",
       "    }\n",
       "  ];\n",
       "\n",
       "  function run_inline_js() {\n",
       "    \n",
       "    if ((window.Bokeh !== undefined) || (force === true)) {\n",
       "      for (var i = 0; i < inline_js.length; i++) {\n",
       "        inline_js[i](window.Bokeh);\n",
       "      }if (force === true) {\n",
       "        display_loaded();\n",
       "      }} else if (Date.now() < window._bokeh_timeout) {\n",
       "      setTimeout(run_inline_js, 100);\n",
       "    } else if (!window._bokeh_failed_load) {\n",
       "      console.log(\"Bokeh: BokehJS failed to load within specified timeout.\");\n",
       "      window._bokeh_failed_load = true;\n",
       "    } else if (force !== true) {\n",
       "      var cell = $(document.getElementById(\"6c6e876f-6e36-48bd-b1d8-a4135aa45c85\")).parents('.cell').data().cell;\n",
       "      cell.output_area.append_execute_result(NB_LOAD_WARNING)\n",
       "    }\n",
       "\n",
       "  }\n",
       "\n",
       "  if (window._bokeh_is_loading === 0) {\n",
       "    console.log(\"Bokeh: BokehJS loaded, going straight to plotting\");\n",
       "    run_inline_js();\n",
       "  } else {\n",
       "    load_libs(js_urls, function() {\n",
       "      console.log(\"Bokeh: BokehJS plotting callback run at\", now());\n",
       "      run_inline_js();\n",
       "    });\n",
       "  }\n",
       "}(this));"
      ]
     },
     "metadata": {},
     "output_type": "display_data"
    }
   ],
   "source": [
    "from bokeh.io import output_notebook\n",
    "output_notebook()"
   ]
  },
  {
   "cell_type": "code",
   "execution_count": 3,
   "metadata": {
    "collapsed": true,
    "deletable": true,
    "editable": true
   },
   "outputs": [],
   "source": [
    "import requests\n",
    "from pyjstat import pyjstat\n",
    "from collections import OrderedDict\n",
    "import json\n",
    "import pandas as pd\n",
    "from bokeh.models import ColumnDataSource, HoverTool"
   ]
  },
  {
   "cell_type": "markdown",
   "metadata": {
    "deletable": true,
    "editable": true
   },
   "source": [
    "## Population vs inequality"
   ]
  },
  {
   "cell_type": "markdown",
   "metadata": {
    "deletable": true,
    "editable": true
   },
   "source": [
    "### Get the data"
   ]
  },
  {
   "cell_type": "markdown",
   "metadata": {
    "deletable": true,
    "editable": true
   },
   "source": [
    "Statistics Norway has a nice REST-API, which we are going to use. The API uses POST requests, so we specify the URL and the (somewhat complex) JSON-query. The JSON query is basically just a filter statement, plus the specification that we want json-stat formatted response."
   ]
  },
  {
   "cell_type": "code",
   "execution_count": 4,
   "metadata": {
    "collapsed": true,
    "deletable": true,
    "editable": true
   },
   "outputs": [],
   "source": [
    "GINI_URL = 'http://data.ssb.no/api/v0/no/table/09114'"
   ]
  },
  {
   "cell_type": "code",
   "execution_count": 5,
   "metadata": {
    "collapsed": true,
    "deletable": true,
    "editable": true
   },
   "outputs": [],
   "source": [
    "GINI_PAYLOAD = {\n",
    "  \"query\": [\n",
    "    {\n",
    "      \"code\": \"Region\",\n",
    "      \"selection\": {\n",
    "        \"filter\": \"all\",\n",
    "        \"values\": [\n",
    "          \"*\"\n",
    "        ]\n",
    "      }\n",
    "    },\n",
    "    {\n",
    "      \"code\": \"ContentsCode\",\n",
    "      \"selection\": {\n",
    "        \"filter\": \"item\",\n",
    "        \"values\": [\n",
    "          \"Ginikoeffisient\"\n",
    "        ]\n",
    "      }\n",
    "    },\n",
    "    {\n",
    "      \"code\": \"Tid\",\n",
    "      \"selection\": {\n",
    "        \"filter\": \"top\",\n",
    "        \"values\": [\n",
    "            1\n",
    "        ]\n",
    "      }\n",
    "    }\n",
    "  ],\n",
    "  \"response\": {\n",
    "    \"format\": \"json-stat\"\n",
    "  }\n",
    "}\n"
   ]
  },
  {
   "cell_type": "markdown",
   "metadata": {
    "deletable": true,
    "editable": true
   },
   "source": [
    "Send request"
   ]
  },
  {
   "cell_type": "code",
   "execution_count": 6,
   "metadata": {
    "collapsed": true,
    "deletable": true,
    "editable": true
   },
   "outputs": [],
   "source": [
    "ginidata = requests.post(GINI_URL, json=GINI_PAYLOAD)"
   ]
  },
  {
   "cell_type": "markdown",
   "metadata": {
    "deletable": true,
    "editable": true
   },
   "source": [
    "Convert json-stat to pandas data frame."
   ]
  },
  {
   "cell_type": "code",
   "execution_count": 7,
   "metadata": {
    "collapsed": false,
    "deletable": true,
    "editable": true
   },
   "outputs": [],
   "source": [
    "ginidf = pyjstat.from_json_stat(ginidata.json(object_pairs_hook=OrderedDict), naming='id')[0]"
   ]
  },
  {
   "cell_type": "code",
   "execution_count": 8,
   "metadata": {
    "collapsed": true,
    "deletable": true,
    "editable": true
   },
   "outputs": [],
   "source": [
    "POP_URL = 'http://data.ssb.no/api/v0/no/table/01222'\n",
    "POP_PAYLOAD = {\n",
    "  \"query\": [\n",
    "    {\n",
    "      \"code\": \"Region\",\n",
    "      \"selection\": {\n",
    "        \"filter\": \"all\",\n",
    "        \"values\": [\n",
    "          \"*\"\n",
    "        ]\n",
    "      }\n",
    "    },\n",
    "    {\n",
    "      \"code\": \"ContentsCode\",\n",
    "      \"selection\": {\n",
    "        \"filter\": \"item\",\n",
    "        \"values\": [\n",
    "          \"Folketallet1\"\n",
    "        ]\n",
    "      }\n",
    "    },\n",
    "    {\n",
    "      \"code\": \"Tid\",\n",
    "      \"selection\": {\n",
    "        \"filter\": \"top\",\n",
    "        \"values\": [\n",
    "            1\n",
    "        ]\n",
    "      }\n",
    "    }\n",
    "  ],\n",
    "  \"response\": {\n",
    "    \"format\": \"json-stat\"\n",
    "  }\n",
    "}\n"
   ]
  },
  {
   "cell_type": "code",
   "execution_count": 9,
   "metadata": {
    "collapsed": true,
    "deletable": true,
    "editable": true
   },
   "outputs": [],
   "source": [
    "popdata = requests.post(POP_URL, json=POP_PAYLOAD)"
   ]
  },
  {
   "cell_type": "code",
   "execution_count": 10,
   "metadata": {
    "collapsed": false,
    "deletable": true,
    "editable": true
   },
   "outputs": [],
   "source": [
    "popdf = pyjstat.from_json_stat(popdata.json(object_pairs_hook=OrderedDict), naming='id')[0]"
   ]
  },
  {
   "cell_type": "code",
   "execution_count": 11,
   "metadata": {
    "collapsed": false,
    "deletable": true,
    "editable": true
   },
   "outputs": [],
   "source": [
    "popdf.drop([\"ContentsCode\", 'Tid'], axis=1, inplace=True)\n",
    "ginidf.drop([\"ContentsCode\", \"Tid\"], axis=1, inplace=True)"
   ]
  },
  {
   "cell_type": "code",
   "execution_count": 12,
   "metadata": {
    "collapsed": false,
    "deletable": true,
    "editable": true
   },
   "outputs": [],
   "source": [
    "popdf.rename(columns={'value': 'folketall'}, inplace=True)\n",
    "ginidf.rename(columns={'value':'gini'}, inplace=True)"
   ]
  },
  {
   "cell_type": "code",
   "execution_count": 13,
   "metadata": {
    "collapsed": false,
    "deletable": true,
    "editable": true
   },
   "outputs": [],
   "source": [
    "ginidf = ginidf[ginidf['Region'].str.len()==4]\n",
    "popdf = popdf[popdf['Region'].str.len()==4]"
   ]
  },
  {
   "cell_type": "markdown",
   "metadata": {
    "deletable": true,
    "editable": true
   },
   "source": [
    "Join Gini-data with population data"
   ]
  },
  {
   "cell_type": "code",
   "execution_count": 14,
   "metadata": {
    "collapsed": false,
    "deletable": true,
    "editable": true
   },
   "outputs": [],
   "source": [
    "ad2 = pd.merge(popdf, ginidf, on='Region')"
   ]
  },
  {
   "cell_type": "markdown",
   "metadata": {
    "deletable": true,
    "editable": true
   },
   "source": [
    "## Visualization"
   ]
  },
  {
   "cell_type": "markdown",
   "metadata": {
    "deletable": true,
    "editable": true
   },
   "source": [
    "Create the first visualization, using gini-coefficients and municipality population."
   ]
  },
  {
   "cell_type": "code",
   "execution_count": 15,
   "metadata": {
    "collapsed": true,
    "deletable": true,
    "editable": true
   },
   "outputs": [],
   "source": [
    "pop_hover = HoverTool(tooltips=[\n",
    "    (\"Municipality_id\", \"@Region\"),\n",
    "    (\"Gini\", \"@gini\"),\n",
    "    (\"Total population\", \"@folketall\")\n",
    "])"
   ]
  },
  {
   "cell_type": "code",
   "execution_count": 16,
   "metadata": {
    "collapsed": false,
    "deletable": true,
    "editable": true
   },
   "outputs": [
    {
     "data": {
      "text/html": [
       "\n",
       "\n",
       "    <div class=\"bk-root\">\n",
       "        <div class=\"bk-plotdiv\" id=\"cfd588db-966d-416c-a9d7-18e1e641a4b3\"></div>\n",
       "    </div>\n",
       "<script type=\"text/javascript\">\n",
       "  \n",
       "  (function(global) {\n",
       "    function now() {\n",
       "      return new Date();\n",
       "    }\n",
       "  \n",
       "    var force = false;\n",
       "  \n",
       "    if (typeof (window._bokeh_onload_callbacks) === \"undefined\" || force === true) {\n",
       "      window._bokeh_onload_callbacks = [];\n",
       "      window._bokeh_is_loading = undefined;\n",
       "    }\n",
       "  \n",
       "  \n",
       "    \n",
       "    if (typeof (window._bokeh_timeout) === \"undefined\" || force === true) {\n",
       "      window._bokeh_timeout = Date.now() + 0;\n",
       "      window._bokeh_failed_load = false;\n",
       "    }\n",
       "  \n",
       "    var NB_LOAD_WARNING = {'data': {'text/html':\n",
       "       \"<div style='background-color: #fdd'>\\n\"+\n",
       "       \"<p>\\n\"+\n",
       "       \"BokehJS does not appear to have successfully loaded. If loading BokehJS from CDN, this \\n\"+\n",
       "       \"may be due to a slow or bad network connection. Possible fixes:\\n\"+\n",
       "       \"</p>\\n\"+\n",
       "       \"<ul>\\n\"+\n",
       "       \"<li>re-rerun `output_notebook()` to attempt to load from CDN again, or</li>\\n\"+\n",
       "       \"<li>use INLINE resources instead, as so:</li>\\n\"+\n",
       "       \"</ul>\\n\"+\n",
       "       \"<code>\\n\"+\n",
       "       \"from bokeh.resources import INLINE\\n\"+\n",
       "       \"output_notebook(resources=INLINE)\\n\"+\n",
       "       \"</code>\\n\"+\n",
       "       \"</div>\"}};\n",
       "  \n",
       "    function display_loaded() {\n",
       "      if (window.Bokeh !== undefined) {\n",
       "        var el = document.getElementById(\"cfd588db-966d-416c-a9d7-18e1e641a4b3\");\n",
       "        el.textContent = \"BokehJS \" + Bokeh.version + \" successfully loaded.\";\n",
       "      } else if (Date.now() < window._bokeh_timeout) {\n",
       "        setTimeout(display_loaded, 100)\n",
       "      }\n",
       "    }\n",
       "  \n",
       "    function run_callbacks() {\n",
       "      window._bokeh_onload_callbacks.forEach(function(callback) { callback() });\n",
       "      delete window._bokeh_onload_callbacks\n",
       "      console.info(\"Bokeh: all callbacks have finished\");\n",
       "    }\n",
       "  \n",
       "    function load_libs(js_urls, callback) {\n",
       "      window._bokeh_onload_callbacks.push(callback);\n",
       "      if (window._bokeh_is_loading > 0) {\n",
       "        console.log(\"Bokeh: BokehJS is being loaded, scheduling callback at\", now());\n",
       "        return null;\n",
       "      }\n",
       "      if (js_urls == null || js_urls.length === 0) {\n",
       "        run_callbacks();\n",
       "        return null;\n",
       "      }\n",
       "      console.log(\"Bokeh: BokehJS not loaded, scheduling load and callback at\", now());\n",
       "      window._bokeh_is_loading = js_urls.length;\n",
       "      for (var i = 0; i < js_urls.length; i++) {\n",
       "        var url = js_urls[i];\n",
       "        var s = document.createElement('script');\n",
       "        s.src = url;\n",
       "        s.async = false;\n",
       "        s.onreadystatechange = s.onload = function() {\n",
       "          window._bokeh_is_loading--;\n",
       "          if (window._bokeh_is_loading === 0) {\n",
       "            console.log(\"Bokeh: all BokehJS libraries loaded\");\n",
       "            run_callbacks()\n",
       "          }\n",
       "        };\n",
       "        s.onerror = function() {\n",
       "          console.warn(\"failed to load library \" + url);\n",
       "        };\n",
       "        console.log(\"Bokeh: injecting script tag for BokehJS library: \", url);\n",
       "        document.getElementsByTagName(\"head\")[0].appendChild(s);\n",
       "      }\n",
       "    };var element = document.getElementById(\"cfd588db-966d-416c-a9d7-18e1e641a4b3\");\n",
       "    if (element == null) {\n",
       "      console.log(\"Bokeh: ERROR: autoload.js configured with elementid 'cfd588db-966d-416c-a9d7-18e1e641a4b3' but no matching script tag was found. \")\n",
       "      return false;\n",
       "    }\n",
       "  \n",
       "    var js_urls = [];\n",
       "  \n",
       "    var inline_js = [\n",
       "      function(Bokeh) {\n",
       "        (function() {\n",
       "          var fn = function() {\n",
       "            var docs_json = {\"cf633549-2ffb-46d0-bb76-8ca04a26e028\":{\"roots\":{\"references\":[{\"attributes\":{\"data_source\":{\"id\":\"201750ac-7fae-4e8d-bb22-9b2b2ab01494\",\"type\":\"ColumnDataSource\"},\"glyph\":{\"id\":\"e78b2022-6178-45ef-84bd-3c1c9b3560be\",\"type\":\"Circle\"},\"hover_glyph\":null,\"muted_glyph\":null,\"nonselection_glyph\":{\"id\":\"3021316b-6bc2-4549-bd76-6c63a44331a1\",\"type\":\"Circle\"},\"selection_glyph\":null},\"id\":\"150c82cc-90cd-42e5-84db-246e670da36d\",\"type\":\"GlyphRenderer\"},{\"attributes\":{},\"id\":\"87504ab2-796c-4907-a2bf-7aa24c34f647\",\"type\":\"BasicTickFormatter\"},{\"attributes\":{\"callback\":null,\"column_names\":[\"Region\",\"folketall\",\"gini\",\"index\"],\"data\":{\"Region\":[\"0101\",\"0102\",\"0103\",\"0104\",\"0105\",\"0106\",\"0111\",\"0113\",\"0114\",\"0115\",\"0116\",\"0117\",\"0118\",\"0119\",\"0121\",\"0122\",\"0123\",\"0124\",\"0125\",\"0127\",\"0128\",\"0130\",\"0131\",\"0133\",\"0134\",\"0135\",\"0136\",\"0137\",\"0138\",\"0199\",\"0211\",\"0213\",\"0214\",\"0215\",\"0216\",\"0217\",\"0219\",\"0220\",\"0221\",\"0226\",\"0227\",\"0228\",\"0229\",\"0230\",\"0231\",\"0233\",\"0234\",\"0235\",\"0236\",\"0237\",\"0238\",\"0239\",\"0299\",\"0301\",\"0399\",\"0401\",\"0402\",\"0403\",\"0412\",\"0414\",\"0415\",\"0417\",\"0418\",\"0419\",\"0420\",\"0423\",\"0425\",\"0426\",\"0427\",\"0428\",\"0429\",\"0430\",\"0432\",\"0434\",\"0435\",\"0436\",\"0437\",\"0438\",\"0439\",\"0441\",\"0499\",\"0501\",\"0502\",\"0511\",\"0512\",\"0513\",\"0514\",\"0515\",\"0516\",\"0517\",\"0518\",\"0519\",\"0520\",\"0521\",\"0522\",\"0528\",\"0529\",\"0532\",\"0533\",\"0534\",\"0536\",\"0538\",\"0540\",\"0541\",\"0542\",\"0543\",\"0544\",\"0545\",\"0599\",\"0601\",\"0602\",\"0604\",\"0605\",\"0612\",\"0615\",\"0616\",\"0617\",\"0618\",\"0619\",\"0620\",\"0621\",\"0622\",\"0623\",\"0624\",\"0625\",\"0626\",\"0627\",\"0628\",\"0631\",\"0632\",\"0633\",\"0699\",\"0701\",\"0702\",\"0703\",\"0704\",\"0705\",\"0706\",\"0707\",\"0708\",\"0709\",\"0710\",\"0711\",\"0712\",\"0713\",\"0714\",\"0715\",\"0716\",\"0717\",\"0718\",\"0719\",\"0720\",\"0721\",\"0722\",\"0723\",\"0724\",\"0725\",\"0726\",\"0727\",\"0728\",\"0729\",\"0799\",\"0805\",\"0806\",\"0807\",\"0811\",\"0814\",\"0815\",\"0817\",\"0819\",\"0821\",\"0822\",\"0826\",\"0827\",\"0828\",\"0829\",\"0830\",\"0831\",\"0833\",\"0834\",\"0899\",\"0901\",\"0903\",\"0904\",\"0906\",\"0911\",\"0912\",\"0914\",\"0918\",\"0919\",\"0920\",\"0921\",\"0922\",\"0923\",\"0924\",\"0926\",\"0928\",\"0929\",\"0932\",\"0933\",\"0935\",\"0937\",\"0938\",\"0940\",\"0941\",\"0999\",\"1001\",\"1002\",\"1003\",\"1004\",\"1014\",\"1017\",\"1018\",\"1021\",\"1026\",\"1027\",\"1029\",\"1032\",\"1034\",\"1037\",\"1046\",\"1099\",\"1101\",\"1102\",\"1103\",\"1106\",\"1111\",\"1112\",\"1114\",\"1119\",\"1120\",\"1121\",\"1122\",\"1124\",\"1127\",\"1129\",\"1130\",\"1133\",\"1134\",\"1135\",\"1141\",\"1142\",\"1144\",\"1145\",\"1146\",\"1149\",\"1151\",\"1154\",\"1159\",\"1160\",\"1199\",\"1201\",\"1211\",\"1214\",\"1216\",\"1219\",\"1221\",\"1222\",\"1223\",\"1224\",\"1227\",\"1228\",\"1230\",\"1231\",\"1232\",\"1233\",\"1234\",\"1235\",\"1238\",\"1241\",\"1242\",\"1243\",\"1244\",\"1245\",\"1246\",\"1247\",\"1248\",\"1249\",\"1250\",\"1251\",\"1252\",\"1253\",\"1255\",\"1256\",\"1259\",\"1260\",\"1263\",\"1264\",\"1265\",\"1266\",\"1299\",\"1301\",\"1401\",\"1411\",\"1412\",\"1413\",\"1416\",\"1417\",\"1418\",\"1419\",\"1420\",\"1421\",\"1422\",\"1424\",\"1426\",\"1428\",\"1429\",\"1430\",\"1431\",\"1432\",\"1433\",\"1438\",\"1439\",\"1441\",\"1443\",\"1444\",\"1445\",\"1448\",\"1449\",\"1499\",\"1501\",\"1502\",\"1503\",\"1504\",\"1505\",\"1511\",\"1514\",\"1515\",\"1516\",\"1517\",\"1519\",\"1520\",\"1523\",\"1524\",\"1525\",\"1526\",\"1527\",\"1528\",\"1529\",\"1531\",\"1532\",\"1534\",\"1535\",\"1539\",\"1543\",\"1545\",\"1546\",\"1547\",\"1548\",\"1551\",\"1554\",\"1556\",\"1557\",\"1560\",\"1563\",\"1566\",\"1567\",\"1569\",\"1571\",\"1572\",\"1573\",\"1576\",\"1599\",\"5001\",\"5004\",\"5005\",\"5011\",\"5012\",\"5013\",\"5014\",\"5015\",\"5016\",\"5017\",\"5018\",\"5019\",\"5020\",\"5021\",\"5022\",\"5023\",\"5024\",\"5025\",\"5026\",\"5027\",\"5028\",\"5029\",\"5030\",\"5031\",\"5032\",\"5033\",\"5034\",\"5035\",\"5036\",\"5037\",\"5038\",\"5039\",\"5040\",\"5041\",\"5042\",\"5043\",\"5044\",\"5045\",\"5046\",\"5047\",\"5048\",\"5049\",\"5050\",\"5051\",\"5052\",\"5053\",\"5054\",\"1601\",\"1612\",\"1613\",\"1617\",\"1620\",\"1621\",\"1622\",\"1624\",\"1627\",\"1630\",\"1632\",\"1633\",\"1634\",\"1635\",\"1636\",\"1638\",\"1640\",\"1644\",\"1645\",\"1648\",\"1653\",\"1657\",\"1662\",\"1663\",\"1664\",\"1665\",\"1699\",\"1702\",\"1703\",\"1711\",\"1714\",\"1717\",\"1718\",\"1719\",\"1721\",\"1723\",\"1724\",\"1725\",\"1729\",\"1736\",\"1738\",\"1739\",\"1740\",\"1742\",\"1743\",\"1744\",\"1748\",\"1749\",\"1750\",\"1751\",\"1755\",\"1756\",\"1799\",\"1804\",\"1805\",\"1811\",\"1812\",\"1813\",\"1814\",\"1815\",\"1816\",\"1818\",\"1820\",\"1822\",\"1824\",\"1825\",\"1826\",\"1827\",\"1828\",\"1832\",\"1833\",\"1834\",\"1835\",\"1836\",\"1837\",\"1838\",\"1839\",\"1840\",\"1841\",\"1842\",\"1843\",\"1845\",\"1848\",\"1849\",\"1850\",\"1851\",\"1852\",\"1853\",\"1854\",\"1855\",\"1856\",\"1857\",\"1858\",\"1859\",\"1860\",\"1865\",\"1866\",\"1867\",\"1868\",\"1870\",\"1871\",\"1874\",\"1899\",\"1901\",\"1902\",\"1903\",\"1911\",\"1913\",\"1915\",\"1917\",\"1919\",\"1920\",\"1921\",\"1922\",\"1923\",\"1924\",\"1925\",\"1926\",\"1927\",\"1928\",\"1929\",\"1931\",\"1933\",\"1936\",\"1938\",\"1939\",\"1940\",\"1941\",\"1942\",\"1943\",\"1999\",\"2001\",\"2002\",\"2003\",\"2004\",\"2011\",\"2012\",\"2014\",\"2015\",\"2016\",\"2017\",\"2018\",\"2019\",\"2020\",\"2021\",\"2022\",\"2023\",\"2024\",\"2025\",\"2027\",\"2028\",\"2030\",\"2099\",\"2111\",\"2112\",\"2113\",\"2114\",\"2115\",\"2121\",\"2131\",\"2199\",\"2211\",\"2299\",\"2300\",\"2311\",\"2321\",\"2399\",\"9999\"],\"folketall\":[31037,0,0,32588,55543,80977,4540,0,0,0,0,0,1399,3567,682,5337,5853,15810,11414,3831,8202,0,0,0,0,7465,16083,5471,5621,0,17486,30880,20084,15735,19287,27178,125454,60926,16390,17980,11663,17874,10945,38670,54178,23545,6704,36576,21681,24647,13240,2903,0,673469,0,0,17934,30930,34151,0,7615,20646,5097,7884,6142,4740,7279,3680,21123,6567,4480,2490,1827,1294,0,1553,5605,2424,1569,1936,0,27938,30642,2642,2038,2179,2331,3638,5728,5872,0,3146,4454,5130,6148,14888,13314,6777,9065,13770,5650,6750,3014,1352,6443,2139,3221,1601,0,0,68713,27410,30283,6833,1069,3341,4566,2457,4626,4520,3488,2277,13880,18926,24917,25980,22452,9450,2688,1411,2482,0,27317,0,0,45360,0,0,0,0,0,62615,6672,46801,9726,0,14212,9621,0,0,0,0,0,0,0,0,0,0,0,0,26734,0,36091,54510,12664,2351,14183,10506,4105,6609,6460,4359,5856,1587,2959,2397,1489,1320,2236,3709,0,6882,0,23017,44645,2467,2087,6086,0,5790,0,0,0,0,0,10871,5187,1845,0,0,1330,3625,1207,1225,958,0,91440,15659,9726,9066,14532,6656,11342,2308,943,1786,4938,8571,1699,6024,1842,0,14898,76328,133140,37167,3331,3237,2826,18762,19217,18699,11866,26265,10972,1246,12638,2723,3849,4663,3197,4849,542,844,11023,42243,208,0,0,8793,0,279792,4083,0,5721,11902,18780,3194,2857,13180,1096,6835,0,3363,931,1117,931,14577,8455,3920,2463,20573,5189,7085,25725,29071,0,0,0,4127,380,8125,0,8079,4877,5129,15789,2902,561,1730,0,0,11988,2345,807,1378,4154,2674,1262,2345,8059,1778,2153,5277,5223,3052,2846,3006,3043,13089,2825,3767,6001,2757,6157,1175,5874,0,7195,0,0,26900,0,47510,24300,3187,2522,8965,8555,5150,9188,10812,2267,1670,4587,972,0,7695,4680,9131,8292,9345,6559,7507,2946,2049,1263,3557,9775,3440,5859,0,2623,3078,7119,5978,2039,0,1571,0,2172,3593,0,193501,22096,13078,4225,987,4648,4962,5351,1684,4864,3277,953,967,6970,2541,3930,11933,5663,2028,6225,16424,8142,6094,13958,4093,834,2469,23964,2616,20115,14943,2473,1585,2094,1379,474,902,2400,1268,3845,618,1105,4492,5117,582,6785,10090,0,0,0,0,0,0,0,0,0,0,0,0,0,0,0,0,0,0,0,0,0,0,0,0,0,0,0,0,0,0,0,0,0,0,0,0,0,0,0,0,0,0,0,0,0,0,0,0,0,0,0,0,0,51558,18638,1486,2020,7948,0,1221,506,1790,7450,2307,13448,1463,1411,1403,1805,4503,26230,1920,454,1249,6346,1998,1029,4691,9775,0,0,1979,2534,1801,1953,2102,1259,1387,2522,0,517,746,0,1301,11397,9611,8042,2623,4541,10401,4902,1068,0,0,75638,24820,2928,2994,0,1380,1117,1061,0,3979,2226,6798,3494,1165,1536,943,902,11644,5653,2263,2877,1856,2132,2925,4944,1224,0,0,2110,6033,10533,2946,20635,941,1022,0,1027,1231,3239,3964,2701,1349,1153,983,2922,944,2263,10171,0,0,0,0,0,0,0,0,0,0,0,0,0,0,0,0],\"gini\":{\"__ndarray__\":\"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\",\"dtype\":\"float64\",\"shape\":[578]},\"index\":[0,1,2,3,4,5,6,7,8,9,10,11,12,13,14,15,16,17,18,19,20,21,22,23,24,25,26,27,28,29,30,31,32,33,34,35,36,37,38,39,40,41,42,43,44,45,46,47,48,49,50,51,52,53,54,55,56,57,58,59,60,61,62,63,64,65,66,67,68,69,70,71,72,73,74,75,76,77,78,79,80,81,82,83,84,85,86,87,88,89,90,91,92,93,94,95,96,97,98,99,100,101,102,103,104,105,106,107,108,109,110,111,112,113,114,115,116,117,118,119,120,121,122,123,124,125,126,127,128,129,130,131,132,133,134,135,136,137,138,139,140,141,142,143,144,145,146,147,148,149,150,151,152,153,154,155,156,157,158,159,160,161,162,163,164,165,166,167,168,169,170,171,172,173,174,175,176,177,178,179,180,181,182,183,184,185,186,187,188,189,190,191,192,193,194,195,196,197,198,199,200,201,202,203,204,205,206,207,208,209,210,211,212,213,214,215,216,217,218,219,220,221,222,223,224,225,226,227,228,229,230,231,232,233,234,235,236,237,238,239,240,241,242,243,244,245,246,247,248,249,250,251,252,253,254,255,256,257,258,259,260,261,262,263,264,265,266,267,268,269,270,271,272,273,274,275,276,277,278,279,280,281,282,283,284,285,286,287,288,289,290,291,292,293,294,295,296,297,298,299,300,301,302,303,304,305,306,307,308,309,310,311,312,313,314,315,316,317,318,319,320,321,322,323,324,325,326,327,328,329,330,331,332,333,334,335,336,337,338,339,340,341,342,343,344,345,346,347,348,349,350,351,352,353,354,355,356,357,358,359,360,361,362,363,364,365,366,367,368,369,370,371,372,373,374,375,376,377,378,379,380,381,382,383,384,385,386,387,388,389,390,391,392,393,394,395,396,397,398,399,400,401,402,403,404,405,406,407,408,409,410,411,412,413,414,415,416,417,418,419,420,421,422,423,424,425,426,427,428,429,430,431,432,433,434,435,436,437,438,439,440,441,442,443,444,445,446,447,448,449,450,451,452,453,454,455,456,457,458,459,460,461,462,463,464,465,466,467,468,469,470,471,472,473,474,475,476,477,478,479,480,481,482,483,484,485,486,487,488,489,490,491,492,493,494,495,496,497,498,499,500,501,502,503,504,505,506,507,508,509,510,511,512,513,514,515,516,517,518,519,520,521,522,523,524,525,526,527,528,529,530,531,532,533,534,535,536,537,538,539,540,541,542,543,544,545,546,547,548,549,550,551,552,553,554,555,556,557,558,559,560,561,562,563,564,565,566,567,568,569,570,571,572,573,574,575,576,577]}},\"id\":\"201750ac-7fae-4e8d-bb22-9b2b2ab01494\",\"type\":\"ColumnDataSource\"},{\"attributes\":{\"ticker\":null},\"id\":\"9fd1225c-2805-4d27-bb05-81f9cac9ee43\",\"type\":\"LogTickFormatter\"},{\"attributes\":{\"below\":[{\"id\":\"0d842825-0258-458d-97f9-f255ba6de6a8\",\"type\":\"LogAxis\"}],\"left\":[{\"id\":\"d80f84ec-d5b4-4bc4-bd70-ea97813eddfc\",\"type\":\"LinearAxis\"}],\"renderers\":[{\"id\":\"0d842825-0258-458d-97f9-f255ba6de6a8\",\"type\":\"LogAxis\"},{\"id\":\"45718ffa-9a73-42e1-8bee-103015d635b3\",\"type\":\"Grid\"},{\"id\":\"d80f84ec-d5b4-4bc4-bd70-ea97813eddfc\",\"type\":\"LinearAxis\"},{\"id\":\"3c2ed0f2-6f1d-4612-8dba-e32676a0baa5\",\"type\":\"Grid\"},{\"id\":\"150c82cc-90cd-42e5-84db-246e670da36d\",\"type\":\"GlyphRenderer\"}],\"title\":{\"id\":\"3c2677c4-ecbc-4d8d-91da-4361a1195667\",\"type\":\"Title\"},\"tool_events\":{\"id\":\"791dcaea-e77e-4627-a781-39821af0b856\",\"type\":\"ToolEvents\"},\"toolbar\":{\"id\":\"f6d4360e-c5da-429d-94a9-433910a99190\",\"type\":\"Toolbar\"},\"x_mapper_type\":\"log\",\"x_range\":{\"id\":\"b4f9dde4-c255-4ab3-8193-ca75958d9134\",\"type\":\"DataRange1d\"},\"y_range\":{\"id\":\"1113c182-83bc-4024-b062-606383e43109\",\"type\":\"DataRange1d\"}},\"id\":\"cfe04cc1-ccf1-4d86-b3cb-24b1bb08838a\",\"subtype\":\"Figure\",\"type\":\"Plot\"},{\"attributes\":{},\"id\":\"791dcaea-e77e-4627-a781-39821af0b856\",\"type\":\"ToolEvents\"},{\"attributes\":{\"axis_label\":\"Gini coefficient\",\"formatter\":{\"id\":\"87504ab2-796c-4907-a2bf-7aa24c34f647\",\"type\":\"BasicTickFormatter\"},\"plot\":{\"id\":\"cfe04cc1-ccf1-4d86-b3cb-24b1bb08838a\",\"subtype\":\"Figure\",\"type\":\"Plot\"},\"ticker\":{\"id\":\"fe30aad3-50c2-426e-b7ce-25b2a15bb472\",\"type\":\"BasicTicker\"}},\"id\":\"d80f84ec-d5b4-4bc4-bd70-ea97813eddfc\",\"type\":\"LinearAxis\"},{\"attributes\":{},\"id\":\"fe30aad3-50c2-426e-b7ce-25b2a15bb472\",\"type\":\"BasicTicker\"},{\"attributes\":{\"callback\":null,\"plot\":{\"id\":\"cfe04cc1-ccf1-4d86-b3cb-24b1bb08838a\",\"subtype\":\"Figure\",\"type\":\"Plot\"},\"tooltips\":[[\"Municipality_id\",\"@Region\"],[\"Gini\",\"@gini\"],[\"Total population\",\"@folketall\"]]},\"id\":\"d24015c5-35a7-485d-9ecd-4993034f3d50\",\"type\":\"HoverTool\"},{\"attributes\":{\"dimension\":1,\"plot\":{\"id\":\"cfe04cc1-ccf1-4d86-b3cb-24b1bb08838a\",\"subtype\":\"Figure\",\"type\":\"Plot\"},\"ticker\":{\"id\":\"fe30aad3-50c2-426e-b7ce-25b2a15bb472\",\"type\":\"BasicTicker\"}},\"id\":\"3c2ed0f2-6f1d-4612-8dba-e32676a0baa5\",\"type\":\"Grid\"},{\"attributes\":{\"fill_alpha\":{\"value\":0.1},\"fill_color\":{\"value\":\"#1f77b4\"},\"line_alpha\":{\"value\":0.1},\"line_color\":{\"value\":\"#1f77b4\"},\"x\":{\"field\":\"folketall\"},\"y\":{\"field\":\"gini\"}},\"id\":\"3021316b-6bc2-4549-bd76-6c63a44331a1\",\"type\":\"Circle\"},{\"attributes\":{\"plot\":null,\"text\":\"Municipality size and income inequality in Norway\"},\"id\":\"3c2677c4-ecbc-4d8d-91da-4361a1195667\",\"type\":\"Title\"},{\"attributes\":{\"num_minor_ticks\":10},\"id\":\"b7a9f051-b323-4f1a-8448-1b5c2c9a5404\",\"type\":\"LogTicker\"},{\"attributes\":{\"callback\":null},\"id\":\"1113c182-83bc-4024-b062-606383e43109\",\"type\":\"DataRange1d\"},{\"attributes\":{\"fill_color\":{\"value\":\"#1f77b4\"},\"line_color\":{\"value\":\"#1f77b4\"},\"x\":{\"field\":\"folketall\"},\"y\":{\"field\":\"gini\"}},\"id\":\"e78b2022-6178-45ef-84bd-3c1c9b3560be\",\"type\":\"Circle\"},{\"attributes\":{\"axis_label\":\"Municipality size\",\"formatter\":{\"id\":\"9fd1225c-2805-4d27-bb05-81f9cac9ee43\",\"type\":\"LogTickFormatter\"},\"plot\":{\"id\":\"cfe04cc1-ccf1-4d86-b3cb-24b1bb08838a\",\"subtype\":\"Figure\",\"type\":\"Plot\"},\"ticker\":{\"id\":\"b7a9f051-b323-4f1a-8448-1b5c2c9a5404\",\"type\":\"LogTicker\"}},\"id\":\"0d842825-0258-458d-97f9-f255ba6de6a8\",\"type\":\"LogAxis\"},{\"attributes\":{\"callback\":null},\"id\":\"b4f9dde4-c255-4ab3-8193-ca75958d9134\",\"type\":\"DataRange1d\"},{\"attributes\":{\"active_drag\":\"auto\",\"active_scroll\":\"auto\",\"active_tap\":\"auto\",\"tools\":[{\"id\":\"d24015c5-35a7-485d-9ecd-4993034f3d50\",\"type\":\"HoverTool\"}]},\"id\":\"f6d4360e-c5da-429d-94a9-433910a99190\",\"type\":\"Toolbar\"},{\"attributes\":{\"plot\":{\"id\":\"cfe04cc1-ccf1-4d86-b3cb-24b1bb08838a\",\"subtype\":\"Figure\",\"type\":\"Plot\"},\"ticker\":{\"id\":\"b7a9f051-b323-4f1a-8448-1b5c2c9a5404\",\"type\":\"LogTicker\"}},\"id\":\"45718ffa-9a73-42e1-8bee-103015d635b3\",\"type\":\"Grid\"}],\"root_ids\":[\"cfe04cc1-ccf1-4d86-b3cb-24b1bb08838a\"]},\"title\":\"Bokeh Application\",\"version\":\"0.12.5\"}};\n",
       "            var render_items = [{\"docid\":\"cf633549-2ffb-46d0-bb76-8ca04a26e028\",\"elementid\":\"cfd588db-966d-416c-a9d7-18e1e641a4b3\",\"modelid\":\"cfe04cc1-ccf1-4d86-b3cb-24b1bb08838a\"}];\n",
       "            \n",
       "            Bokeh.embed.embed_items(docs_json, render_items);\n",
       "          };\n",
       "          if (document.readyState != \"loading\") fn();\n",
       "          else document.addEventListener(\"DOMContentLoaded\", fn);\n",
       "        })();\n",
       "      },\n",
       "      function(Bokeh) {\n",
       "      }\n",
       "    ];\n",
       "  \n",
       "    function run_inline_js() {\n",
       "      \n",
       "      if ((window.Bokeh !== undefined) || (force === true)) {\n",
       "        for (var i = 0; i < inline_js.length; i++) {\n",
       "          inline_js[i](window.Bokeh);\n",
       "        }if (force === true) {\n",
       "          display_loaded();\n",
       "        }} else if (Date.now() < window._bokeh_timeout) {\n",
       "        setTimeout(run_inline_js, 100);\n",
       "      } else if (!window._bokeh_failed_load) {\n",
       "        console.log(\"Bokeh: BokehJS failed to load within specified timeout.\");\n",
       "        window._bokeh_failed_load = true;\n",
       "      } else if (force !== true) {\n",
       "        var cell = $(document.getElementById(\"cfd588db-966d-416c-a9d7-18e1e641a4b3\")).parents('.cell').data().cell;\n",
       "        cell.output_area.append_execute_result(NB_LOAD_WARNING)\n",
       "      }\n",
       "  \n",
       "    }\n",
       "  \n",
       "    if (window._bokeh_is_loading === 0) {\n",
       "      console.log(\"Bokeh: BokehJS loaded, going straight to plotting\");\n",
       "      run_inline_js();\n",
       "    } else {\n",
       "      load_libs(js_urls, function() {\n",
       "        console.log(\"Bokeh: BokehJS plotting callback run at\", now());\n",
       "        run_inline_js();\n",
       "      });\n",
       "    }\n",
       "  }(this));\n",
       "</script>"
      ]
     },
     "metadata": {},
     "output_type": "display_data"
    }
   ],
   "source": [
    "source = ColumnDataSource(data=ad2)\n",
    "p = figure(tools=[pop_hover],\n",
    "           x_axis_type='log', \n",
    "           x_axis_label=\"Municipality size\", \n",
    "           y_axis_label=\"Gini coefficient\", \n",
    "           title=\"Municipality size and income inequality in Norway\")\n",
    "p.circle(x='folketall', y='gini', source=source)\n",
    "show(p)"
   ]
  },
  {
   "cell_type": "markdown",
   "metadata": {
    "deletable": true,
    "editable": true
   },
   "source": [
    "## Population density vs inequality"
   ]
  },
  {
   "cell_type": "markdown",
   "metadata": {
    "deletable": true,
    "editable": true
   },
   "source": [
    "We don't really expect any widely different result here, because municipality size and population size is strongly correlated."
   ]
  },
  {
   "cell_type": "markdown",
   "metadata": {
    "deletable": true,
    "editable": true
   },
   "source": [
    "Basically repeat the process, but with population density data. Density as frequency must be calculated as number of people living in densely populated areas vs total number of people in municipality. This is achieved through two separate queries, and the results are merged."
   ]
  },
  {
   "cell_type": "code",
   "execution_count": 17,
   "metadata": {
    "collapsed": false,
    "deletable": true,
    "editable": true
   },
   "outputs": [],
   "source": [
    "D_URL = 'http://data.ssb.no/api/v0/no/table/05212'\n",
    "D_PAYLOAD1 = {\n",
    "  \"query\": [\n",
    "    {\n",
    "      \"code\": \"Region\",\n",
    "      \"selection\": {\n",
    "        \"filter\": \"all\",\n",
    "        \"values\": [\n",
    "          \"*\"\n",
    "        ]\n",
    "      }\n",
    "    },\n",
    "    {\n",
    "      \"code\": \"TettSpredt\",\n",
    "      \"selection\": {\n",
    "        \"filter\": \"item\",\n",
    "        \"values\": [\n",
    "          \"10\"\n",
    "        ]\n",
    "      }\n",
    "    },\n",
    "    {\n",
    "      \"code\": \"ContentsCode\",\n",
    "      \"selection\": {\n",
    "        \"filter\": \"item\",\n",
    "        \"values\": [\n",
    "          \"Folkemengde\"\n",
    "        ]\n",
    "      }\n",
    "    },\n",
    "    {\n",
    "      \"code\": \"Tid\",\n",
    "      \"selection\": {\n",
    "        \"filter\": \"top\",\n",
    "        \"values\": [\n",
    "            1\n",
    "        ]\n",
    "      }\n",
    "    }\n",
    "  ],\n",
    "  \"response\": {\n",
    "    \"format\": \"json-stat\"\n",
    "  }\n",
    "}\n",
    "\n",
    "\n",
    "D_PAYLOAD2 = {\n",
    "  \"query\": [\n",
    "    {\n",
    "      \"code\": \"Region\",\n",
    "      \"selection\": {\n",
    "        \"filter\": \"all\",\n",
    "        \"values\": [\n",
    "          \"*\"\n",
    "        ]\n",
    "      }\n",
    "    },\n",
    "    {\n",
    "      \"code\": \"ContentsCode\",\n",
    "      \"selection\": {\n",
    "        \"filter\": \"item\",\n",
    "        \"values\": [\n",
    "          \"Folkemengde\"\n",
    "        ]\n",
    "      }\n",
    "    },\n",
    "    {\n",
    "      \"code\": \"Tid\",\n",
    "      \"selection\": {\n",
    "        \"filter\": \"top\",\n",
    "        \"values\": [\n",
    "            1\n",
    "        ]\n",
    "      }\n",
    "    }\n",
    "  ],\n",
    "  \"response\": {\n",
    "    \"format\": \"json-stat\"\n",
    "  }\n",
    "}\n"
   ]
  },
  {
   "cell_type": "code",
   "execution_count": 18,
   "metadata": {
    "collapsed": true,
    "deletable": true,
    "editable": true
   },
   "outputs": [],
   "source": [
    "densedata = requests.post(D_URL, json=D_PAYLOAD1)"
   ]
  },
  {
   "cell_type": "code",
   "execution_count": 19,
   "metadata": {
    "collapsed": true,
    "deletable": true,
    "editable": true
   },
   "outputs": [],
   "source": [
    "totaldata = requests.post(D_URL, json=D_PAYLOAD2)"
   ]
  },
  {
   "cell_type": "code",
   "execution_count": 25,
   "metadata": {
    "collapsed": true,
    "deletable": true,
    "editable": true
   },
   "outputs": [],
   "source": [
    "densedf = pyjstat.from_json_stat(densedata.json(object_pairs_hook=OrderedDict), naming='id')[0]\n",
    "totaldf = pyjstat.from_json_stat(totaldata.json(object_pairs_hook=OrderedDict), naming='id')[0]"
   ]
  },
  {
   "cell_type": "code",
   "execution_count": 27,
   "metadata": {
    "collapsed": false,
    "deletable": true,
    "editable": true
   },
   "outputs": [],
   "source": [
    "# Filter rows that are not munuipalities - area totals and country as a whole\n",
    "densedf = densedf[densedf['Region'].str.len()==4]\n",
    "totaldf = totaldf[totaldf['Region'].str.len()==4]"
   ]
  },
  {
   "cell_type": "code",
   "execution_count": 28,
   "metadata": {
    "collapsed": false
   },
   "outputs": [
    {
     "data": {
      "text/html": [
       "<div>\n",
       "<style scoped>\n",
       "    .dataframe tbody tr th:only-of-type {\n",
       "        vertical-align: middle;\n",
       "    }\n",
       "\n",
       "    .dataframe tbody tr th {\n",
       "        vertical-align: top;\n",
       "    }\n",
       "\n",
       "    .dataframe thead th {\n",
       "        text-align: right;\n",
       "    }\n",
       "</style>\n",
       "<table border=\"1\" class=\"dataframe\">\n",
       "  <thead>\n",
       "    <tr style=\"text-align: right;\">\n",
       "      <th></th>\n",
       "      <th>Region</th>\n",
       "      <th>TettSpredt</th>\n",
       "      <th>ContentsCode</th>\n",
       "      <th>Tid</th>\n",
       "      <th>value</th>\n",
       "    </tr>\n",
       "  </thead>\n",
       "  <tbody>\n",
       "    <tr>\n",
       "      <th>2</th>\n",
       "      <td>0101</td>\n",
       "      <td>10</td>\n",
       "      <td>Folkemengde</td>\n",
       "      <td>2017</td>\n",
       "      <td>26695</td>\n",
       "    </tr>\n",
       "    <tr>\n",
       "      <th>3</th>\n",
       "      <td>0102</td>\n",
       "      <td>10</td>\n",
       "      <td>Folkemengde</td>\n",
       "      <td>2017</td>\n",
       "      <td>0</td>\n",
       "    </tr>\n",
       "    <tr>\n",
       "      <th>4</th>\n",
       "      <td>0103</td>\n",
       "      <td>10</td>\n",
       "      <td>Folkemengde</td>\n",
       "      <td>2017</td>\n",
       "      <td>0</td>\n",
       "    </tr>\n",
       "    <tr>\n",
       "      <th>5</th>\n",
       "      <td>0104</td>\n",
       "      <td>10</td>\n",
       "      <td>Folkemengde</td>\n",
       "      <td>2017</td>\n",
       "      <td>31855</td>\n",
       "    </tr>\n",
       "    <tr>\n",
       "      <th>6</th>\n",
       "      <td>0105</td>\n",
       "      <td>10</td>\n",
       "      <td>Folkemengde</td>\n",
       "      <td>2017</td>\n",
       "      <td>50006</td>\n",
       "    </tr>\n",
       "  </tbody>\n",
       "</table>\n",
       "</div>"
      ],
      "text/plain": [
       "  Region TettSpredt ContentsCode   Tid  value\n",
       "2   0101         10  Folkemengde  2017  26695\n",
       "3   0102         10  Folkemengde  2017      0\n",
       "4   0103         10  Folkemengde  2017      0\n",
       "5   0104         10  Folkemengde  2017  31855\n",
       "6   0105         10  Folkemengde  2017  50006"
      ]
     },
     "execution_count": 28,
     "metadata": {},
     "output_type": "execute_result"
    }
   ],
   "source": [
    "densedf.head()"
   ]
  },
  {
   "cell_type": "code",
   "execution_count": 29,
   "metadata": {
    "collapsed": false,
    "deletable": true,
    "editable": true
   },
   "outputs": [],
   "source": [
    "densedf.drop([\"ContentsCode\", 'Tid', 'TettSpredt'], axis=1, inplace=True)\n",
    "totaldf.drop([\"ContentsCode\", \"Tid\"], axis=1, inplace=True)\n",
    "densedf.rename(columns={'value': 'tettbygd'}, inplace=True)\n",
    "totaldf.rename(columns={'value':'totalt'}, inplace=True)"
   ]
  },
  {
   "cell_type": "code",
   "execution_count": 31,
   "metadata": {
    "collapsed": false,
    "deletable": true,
    "editable": true
   },
   "outputs": [],
   "source": [
    "denseshare_df = pd.merge(densedf, totaldf, on='Region')\n",
    "denseshare_df['denseshare'] = denseshare_df['tettbygd']/denseshare_df['totalt']\n",
    "denseshare_df = denseshare_df[denseshare_df['Region'].str.len()==4]"
   ]
  },
  {
   "cell_type": "code",
   "execution_count": 32,
   "metadata": {
    "collapsed": false,
    "deletable": true,
    "editable": true
   },
   "outputs": [
    {
     "data": {
      "text/html": [
       "<div>\n",
       "<style scoped>\n",
       "    .dataframe tbody tr th:only-of-type {\n",
       "        vertical-align: middle;\n",
       "    }\n",
       "\n",
       "    .dataframe tbody tr th {\n",
       "        vertical-align: top;\n",
       "    }\n",
       "\n",
       "    .dataframe thead th {\n",
       "        text-align: right;\n",
       "    }\n",
       "</style>\n",
       "<table border=\"1\" class=\"dataframe\">\n",
       "  <thead>\n",
       "    <tr style=\"text-align: right;\">\n",
       "      <th></th>\n",
       "      <th>Region</th>\n",
       "      <th>tettbygd</th>\n",
       "      <th>totalt</th>\n",
       "      <th>denseshare</th>\n",
       "    </tr>\n",
       "  </thead>\n",
       "  <tbody>\n",
       "    <tr>\n",
       "      <th>0</th>\n",
       "      <td>0101</td>\n",
       "      <td>26695</td>\n",
       "      <td>30790</td>\n",
       "      <td>0.867002</td>\n",
       "    </tr>\n",
       "    <tr>\n",
       "      <th>1</th>\n",
       "      <td>0102</td>\n",
       "      <td>0</td>\n",
       "      <td>0</td>\n",
       "      <td>NaN</td>\n",
       "    </tr>\n",
       "    <tr>\n",
       "      <th>2</th>\n",
       "      <td>0103</td>\n",
       "      <td>0</td>\n",
       "      <td>0</td>\n",
       "      <td>NaN</td>\n",
       "    </tr>\n",
       "    <tr>\n",
       "      <th>3</th>\n",
       "      <td>0104</td>\n",
       "      <td>31855</td>\n",
       "      <td>32407</td>\n",
       "      <td>0.982967</td>\n",
       "    </tr>\n",
       "    <tr>\n",
       "      <th>4</th>\n",
       "      <td>0105</td>\n",
       "      <td>50006</td>\n",
       "      <td>55127</td>\n",
       "      <td>0.907105</td>\n",
       "    </tr>\n",
       "  </tbody>\n",
       "</table>\n",
       "</div>"
      ],
      "text/plain": [
       "  Region  tettbygd  totalt  denseshare\n",
       "0   0101     26695   30790    0.867002\n",
       "1   0102         0       0         NaN\n",
       "2   0103         0       0         NaN\n",
       "3   0104     31855   32407    0.982967\n",
       "4   0105     50006   55127    0.907105"
      ]
     },
     "execution_count": 32,
     "metadata": {},
     "output_type": "execute_result"
    }
   ],
   "source": [
    "denseshare_df.head()"
   ]
  },
  {
   "cell_type": "code",
   "execution_count": 33,
   "metadata": {
    "collapsed": true,
    "deletable": true,
    "editable": true
   },
   "outputs": [],
   "source": [
    "dense_gini_df = pd.merge(denseshare_df, ginidf, on='Region')"
   ]
  },
  {
   "cell_type": "code",
   "execution_count": 34,
   "metadata": {
    "collapsed": false,
    "deletable": true,
    "editable": true
   },
   "outputs": [
    {
     "data": {
      "text/html": [
       "<div>\n",
       "<style scoped>\n",
       "    .dataframe tbody tr th:only-of-type {\n",
       "        vertical-align: middle;\n",
       "    }\n",
       "\n",
       "    .dataframe tbody tr th {\n",
       "        vertical-align: top;\n",
       "    }\n",
       "\n",
       "    .dataframe thead th {\n",
       "        text-align: right;\n",
       "    }\n",
       "</style>\n",
       "<table border=\"1\" class=\"dataframe\">\n",
       "  <thead>\n",
       "    <tr style=\"text-align: right;\">\n",
       "      <th></th>\n",
       "      <th>Region</th>\n",
       "      <th>tettbygd</th>\n",
       "      <th>totalt</th>\n",
       "      <th>denseshare</th>\n",
       "      <th>gini</th>\n",
       "    </tr>\n",
       "  </thead>\n",
       "  <tbody>\n",
       "    <tr>\n",
       "      <th>0</th>\n",
       "      <td>0101</td>\n",
       "      <td>26695</td>\n",
       "      <td>30790</td>\n",
       "      <td>0.867002</td>\n",
       "      <td>0.227</td>\n",
       "    </tr>\n",
       "    <tr>\n",
       "      <th>1</th>\n",
       "      <td>0102</td>\n",
       "      <td>0</td>\n",
       "      <td>0</td>\n",
       "      <td>NaN</td>\n",
       "      <td>NaN</td>\n",
       "    </tr>\n",
       "    <tr>\n",
       "      <th>2</th>\n",
       "      <td>0103</td>\n",
       "      <td>0</td>\n",
       "      <td>0</td>\n",
       "      <td>NaN</td>\n",
       "      <td>NaN</td>\n",
       "    </tr>\n",
       "    <tr>\n",
       "      <th>3</th>\n",
       "      <td>0104</td>\n",
       "      <td>31855</td>\n",
       "      <td>32407</td>\n",
       "      <td>0.982967</td>\n",
       "      <td>0.241</td>\n",
       "    </tr>\n",
       "    <tr>\n",
       "      <th>4</th>\n",
       "      <td>0105</td>\n",
       "      <td>50006</td>\n",
       "      <td>55127</td>\n",
       "      <td>0.907105</td>\n",
       "      <td>0.224</td>\n",
       "    </tr>\n",
       "  </tbody>\n",
       "</table>\n",
       "</div>"
      ],
      "text/plain": [
       "  Region  tettbygd  totalt  denseshare   gini\n",
       "0   0101     26695   30790    0.867002  0.227\n",
       "1   0102         0       0         NaN    NaN\n",
       "2   0103         0       0         NaN    NaN\n",
       "3   0104     31855   32407    0.982967  0.241\n",
       "4   0105     50006   55127    0.907105  0.224"
      ]
     },
     "execution_count": 34,
     "metadata": {},
     "output_type": "execute_result"
    }
   ],
   "source": [
    "dense_gini_df.head()"
   ]
  },
  {
   "cell_type": "markdown",
   "metadata": {
    "deletable": true,
    "editable": true
   },
   "source": [
    "## Visualization"
   ]
  },
  {
   "cell_type": "code",
   "execution_count": 35,
   "metadata": {
    "collapsed": false,
    "deletable": true,
    "editable": true
   },
   "outputs": [],
   "source": [
    "hover = HoverTool(tooltips=[\n",
    "    (\"Municipality_id\", \"@Region\"),\n",
    "    (\"Gini\", \"@gini\"),\n",
    "    (\"Total population\", \"@totalt\")\n",
    "])"
   ]
  },
  {
   "cell_type": "code",
   "execution_count": 36,
   "metadata": {
    "collapsed": false,
    "deletable": true,
    "editable": true
   },
   "outputs": [
    {
     "data": {
      "text/html": [
       "\n",
       "\n",
       "    <div class=\"bk-root\">\n",
       "        <div class=\"bk-plotdiv\" id=\"a7c01945-1719-4235-81f4-ccfdf5b78c97\"></div>\n",
       "    </div>\n",
       "<script type=\"text/javascript\">\n",
       "  \n",
       "  (function(global) {\n",
       "    function now() {\n",
       "      return new Date();\n",
       "    }\n",
       "  \n",
       "    var force = false;\n",
       "  \n",
       "    if (typeof (window._bokeh_onload_callbacks) === \"undefined\" || force === true) {\n",
       "      window._bokeh_onload_callbacks = [];\n",
       "      window._bokeh_is_loading = undefined;\n",
       "    }\n",
       "  \n",
       "  \n",
       "    \n",
       "    if (typeof (window._bokeh_timeout) === \"undefined\" || force === true) {\n",
       "      window._bokeh_timeout = Date.now() + 0;\n",
       "      window._bokeh_failed_load = false;\n",
       "    }\n",
       "  \n",
       "    var NB_LOAD_WARNING = {'data': {'text/html':\n",
       "       \"<div style='background-color: #fdd'>\\n\"+\n",
       "       \"<p>\\n\"+\n",
       "       \"BokehJS does not appear to have successfully loaded. If loading BokehJS from CDN, this \\n\"+\n",
       "       \"may be due to a slow or bad network connection. Possible fixes:\\n\"+\n",
       "       \"</p>\\n\"+\n",
       "       \"<ul>\\n\"+\n",
       "       \"<li>re-rerun `output_notebook()` to attempt to load from CDN again, or</li>\\n\"+\n",
       "       \"<li>use INLINE resources instead, as so:</li>\\n\"+\n",
       "       \"</ul>\\n\"+\n",
       "       \"<code>\\n\"+\n",
       "       \"from bokeh.resources import INLINE\\n\"+\n",
       "       \"output_notebook(resources=INLINE)\\n\"+\n",
       "       \"</code>\\n\"+\n",
       "       \"</div>\"}};\n",
       "  \n",
       "    function display_loaded() {\n",
       "      if (window.Bokeh !== undefined) {\n",
       "        var el = document.getElementById(\"a7c01945-1719-4235-81f4-ccfdf5b78c97\");\n",
       "        el.textContent = \"BokehJS \" + Bokeh.version + \" successfully loaded.\";\n",
       "      } else if (Date.now() < window._bokeh_timeout) {\n",
       "        setTimeout(display_loaded, 100)\n",
       "      }\n",
       "    }\n",
       "  \n",
       "    function run_callbacks() {\n",
       "      window._bokeh_onload_callbacks.forEach(function(callback) { callback() });\n",
       "      delete window._bokeh_onload_callbacks\n",
       "      console.info(\"Bokeh: all callbacks have finished\");\n",
       "    }\n",
       "  \n",
       "    function load_libs(js_urls, callback) {\n",
       "      window._bokeh_onload_callbacks.push(callback);\n",
       "      if (window._bokeh_is_loading > 0) {\n",
       "        console.log(\"Bokeh: BokehJS is being loaded, scheduling callback at\", now());\n",
       "        return null;\n",
       "      }\n",
       "      if (js_urls == null || js_urls.length === 0) {\n",
       "        run_callbacks();\n",
       "        return null;\n",
       "      }\n",
       "      console.log(\"Bokeh: BokehJS not loaded, scheduling load and callback at\", now());\n",
       "      window._bokeh_is_loading = js_urls.length;\n",
       "      for (var i = 0; i < js_urls.length; i++) {\n",
       "        var url = js_urls[i];\n",
       "        var s = document.createElement('script');\n",
       "        s.src = url;\n",
       "        s.async = false;\n",
       "        s.onreadystatechange = s.onload = function() {\n",
       "          window._bokeh_is_loading--;\n",
       "          if (window._bokeh_is_loading === 0) {\n",
       "            console.log(\"Bokeh: all BokehJS libraries loaded\");\n",
       "            run_callbacks()\n",
       "          }\n",
       "        };\n",
       "        s.onerror = function() {\n",
       "          console.warn(\"failed to load library \" + url);\n",
       "        };\n",
       "        console.log(\"Bokeh: injecting script tag for BokehJS library: \", url);\n",
       "        document.getElementsByTagName(\"head\")[0].appendChild(s);\n",
       "      }\n",
       "    };var element = document.getElementById(\"a7c01945-1719-4235-81f4-ccfdf5b78c97\");\n",
       "    if (element == null) {\n",
       "      console.log(\"Bokeh: ERROR: autoload.js configured with elementid 'a7c01945-1719-4235-81f4-ccfdf5b78c97' but no matching script tag was found. \")\n",
       "      return false;\n",
       "    }\n",
       "  \n",
       "    var js_urls = [];\n",
       "  \n",
       "    var inline_js = [\n",
       "      function(Bokeh) {\n",
       "        (function() {\n",
       "          var fn = function() {\n",
       "            var docs_json = {\"b224f5d2-d5f2-4cf3-820e-b007e2a94a89\":{\"roots\":{\"references\":[{\"attributes\":{\"axis_label\":\"Share of population living in dense areas\",\"formatter\":{\"id\":\"63453492-3a33-4984-b4b2-50418bfd2f53\",\"type\":\"BasicTickFormatter\"},\"plot\":{\"id\":\"00ee0d6c-16d2-409c-ba7e-c1da78165fc9\",\"subtype\":\"Figure\",\"type\":\"Plot\"},\"ticker\":{\"id\":\"f1f4af04-1856-465b-8ea2-8aaed7e8a30b\",\"type\":\"BasicTicker\"}},\"id\":\"a15efa3a-9441-453e-9ff9-d9a04403aeb0\",\"type\":\"LinearAxis\"},{\"attributes\":{\"axis_label\":\"Gini coefficient\",\"formatter\":{\"id\":\"7566c429-341a-41a5-b729-e0282c7c8d37\",\"type\":\"BasicTickFormatter\"},\"plot\":{\"id\":\"00ee0d6c-16d2-409c-ba7e-c1da78165fc9\",\"subtype\":\"Figure\",\"type\":\"Plot\"},\"ticker\":{\"id\":\"f29eee8e-c4a3-47b6-a661-66755d955d49\",\"type\":\"BasicTicker\"}},\"id\":\"1ac148fe-751f-4a0a-a905-d66ea21d54af\",\"type\":\"LinearAxis\"},{\"attributes\":{},\"id\":\"f1f4af04-1856-465b-8ea2-8aaed7e8a30b\",\"type\":\"BasicTicker\"},{\"attributes\":{\"plot\":{\"id\":\"00ee0d6c-16d2-409c-ba7e-c1da78165fc9\",\"subtype\":\"Figure\",\"type\":\"Plot\"},\"ticker\":{\"id\":\"f1f4af04-1856-465b-8ea2-8aaed7e8a30b\",\"type\":\"BasicTicker\"}},\"id\":\"e148d790-3919-46da-8ac0-2f3dbcc07df9\",\"type\":\"Grid\"},{\"attributes\":{\"fill_alpha\":{\"value\":0.1},\"fill_color\":{\"value\":\"#1f77b4\"},\"line_alpha\":{\"value\":0.1},\"line_color\":{\"value\":\"#1f77b4\"},\"x\":{\"field\":\"denseshare\"},\"y\":{\"field\":\"gini\"}},\"id\":\"f9d8e7c7-339a-43a7-a238-51040b12563d\",\"type\":\"Circle\"},{\"attributes\":{\"data_source\":{\"id\":\"be44e36d-1c11-4fac-9653-cc5406f33a42\",\"type\":\"ColumnDataSource\"},\"glyph\":{\"id\":\"ccd6db74-3d57-4d75-b2d1-9b04a658f763\",\"type\":\"Circle\"},\"hover_glyph\":null,\"muted_glyph\":null,\"nonselection_glyph\":{\"id\":\"f9d8e7c7-339a-43a7-a238-51040b12563d\",\"type\":\"Circle\"},\"selection_glyph\":null},\"id\":\"53f81493-40f9-4339-8800-6e858fb03d11\",\"type\":\"GlyphRenderer\"},{\"attributes\":{},\"id\":\"63453492-3a33-4984-b4b2-50418bfd2f53\",\"type\":\"BasicTickFormatter\"},{\"attributes\":{},\"id\":\"7566c429-341a-41a5-b729-e0282c7c8d37\",\"type\":\"BasicTickFormatter\"},{\"attributes\":{\"callback\":null,\"plot\":{\"id\":\"00ee0d6c-16d2-409c-ba7e-c1da78165fc9\",\"subtype\":\"Figure\",\"type\":\"Plot\"},\"tooltips\":[[\"Municipality_id\",\"@Region\"],[\"Gini\",\"@gini\"],[\"Total population\",\"@totalt\"]]},\"id\":\"c2a0d2b9-3f33-4067-a0ed-b0a71efc90a8\",\"type\":\"HoverTool\"},{\"attributes\":{\"below\":[{\"id\":\"a15efa3a-9441-453e-9ff9-d9a04403aeb0\",\"type\":\"LinearAxis\"}],\"left\":[{\"id\":\"1ac148fe-751f-4a0a-a905-d66ea21d54af\",\"type\":\"LinearAxis\"}],\"renderers\":[{\"id\":\"a15efa3a-9441-453e-9ff9-d9a04403aeb0\",\"type\":\"LinearAxis\"},{\"id\":\"e148d790-3919-46da-8ac0-2f3dbcc07df9\",\"type\":\"Grid\"},{\"id\":\"1ac148fe-751f-4a0a-a905-d66ea21d54af\",\"type\":\"LinearAxis\"},{\"id\":\"6483c172-82ad-4012-bae5-b4dd7033254d\",\"type\":\"Grid\"},{\"id\":\"53f81493-40f9-4339-8800-6e858fb03d11\",\"type\":\"GlyphRenderer\"}],\"title\":{\"id\":\"a5e20de2-c99f-4002-bfb7-84268b7dacbd\",\"type\":\"Title\"},\"tool_events\":{\"id\":\"d638ec33-38c8-421b-b55e-48ca389b28ee\",\"type\":\"ToolEvents\"},\"toolbar\":{\"id\":\"713e1014-b0be-44b9-a677-81d67f66e78f\",\"type\":\"Toolbar\"},\"x_range\":{\"id\":\"39a8879b-9758-4906-ad15-ca2aff3fb6ef\",\"type\":\"DataRange1d\"},\"y_range\":{\"id\":\"6efb5a54-8025-40fa-833f-d7a545c80da2\",\"type\":\"DataRange1d\"}},\"id\":\"00ee0d6c-16d2-409c-ba7e-c1da78165fc9\",\"subtype\":\"Figure\",\"type\":\"Plot\"},{\"attributes\":{\"callback\":null,\"column_names\":[\"Region\",\"tettbygd\",\"totalt\",\"denseshare\",\"gini\",\"index\"],\"data\":{\"Region\":[\"0101\",\"0102\",\"0103\",\"0104\",\"0105\",\"0106\",\"0111\",\"0113\",\"0114\",\"0115\",\"0116\",\"0117\",\"0118\",\"0119\",\"0121\",\"0122\",\"0123\",\"0124\",\"0125\",\"0127\",\"0128\",\"0130\",\"0131\",\"0133\",\"0134\",\"0135\",\"0136\",\"0137\",\"0138\",\"0199\",\"0211\",\"0213\",\"0214\",\"0215\",\"0216\",\"0217\",\"0219\",\"0220\",\"0221\",\"0226\",\"0227\",\"0228\",\"0229\",\"0230\",\"0231\",\"0233\",\"0234\",\"0235\",\"0236\",\"0237\",\"0238\",\"0239\",\"0299\",\"0301\",\"0399\",\"0401\",\"0402\",\"0403\",\"0412\",\"0414\",\"0415\",\"0417\",\"0418\",\"0419\",\"0420\",\"0423\",\"0425\",\"0426\",\"0427\",\"0428\",\"0429\",\"0430\",\"0432\",\"0434\",\"0435\",\"0436\",\"0437\",\"0438\",\"0439\",\"0441\",\"0499\",\"0501\",\"0502\",\"0511\",\"0512\",\"0513\",\"0514\",\"0515\",\"0516\",\"0517\",\"0518\",\"0519\",\"0520\",\"0521\",\"0522\",\"0528\",\"0529\",\"0532\",\"0533\",\"0534\",\"0536\",\"0538\",\"0540\",\"0541\",\"0542\",\"0543\",\"0544\",\"0545\",\"0599\",\"0601\",\"0602\",\"0604\",\"0605\",\"0612\",\"0615\",\"0616\",\"0617\",\"0618\",\"0619\",\"0620\",\"0621\",\"0622\",\"0623\",\"0624\",\"0625\",\"0626\",\"0627\",\"0628\",\"0631\",\"0632\",\"0633\",\"0699\",\"0701\",\"0702\",\"0703\",\"0704\",\"0705\",\"0706\",\"0707\",\"0708\",\"0709\",\"0710\",\"0711\",\"0712\",\"0713\",\"0714\",\"0715\",\"0716\",\"0717\",\"0718\",\"0719\",\"0720\",\"0721\",\"0722\",\"0723\",\"0724\",\"0725\",\"0726\",\"0727\",\"0728\",\"0729\",\"0799\",\"0805\",\"0806\",\"0807\",\"0811\",\"0814\",\"0815\",\"0817\",\"0819\",\"0821\",\"0822\",\"0826\",\"0827\",\"0828\",\"0829\",\"0830\",\"0831\",\"0833\",\"0834\",\"0899\",\"0901\",\"0903\",\"0904\",\"0906\",\"0911\",\"0912\",\"0914\",\"0918\",\"0919\",\"0920\",\"0921\",\"0922\",\"0923\",\"0924\",\"0926\",\"0928\",\"0929\",\"0932\",\"0933\",\"0935\",\"0937\",\"0938\",\"0940\",\"0941\",\"0999\",\"1001\",\"1002\",\"1003\",\"1004\",\"1014\",\"1017\",\"1018\",\"1021\",\"1026\",\"1027\",\"1029\",\"1032\",\"1034\",\"1037\",\"1046\",\"1099\",\"1101\",\"1102\",\"1103\",\"1106\",\"1111\",\"1112\",\"1114\",\"1119\",\"1120\",\"1121\",\"1122\",\"1124\",\"1127\",\"1129\",\"1130\",\"1133\",\"1134\",\"1135\",\"1141\",\"1142\",\"1144\",\"1145\",\"1146\",\"1149\",\"1151\",\"1154\",\"1159\",\"1160\",\"1199\",\"1201\",\"1211\",\"1214\",\"1216\",\"1219\",\"1221\",\"1222\",\"1223\",\"1224\",\"1227\",\"1228\",\"1230\",\"1231\",\"1232\",\"1233\",\"1234\",\"1235\",\"1238\",\"1241\",\"1242\",\"1243\",\"1244\",\"1245\",\"1246\",\"1247\",\"1248\",\"1249\",\"1250\",\"1251\",\"1252\",\"1253\",\"1255\",\"1256\",\"1259\",\"1260\",\"1263\",\"1264\",\"1265\",\"1266\",\"1299\",\"1301\",\"1401\",\"1411\",\"1412\",\"1413\",\"1416\",\"1417\",\"1418\",\"1419\",\"1420\",\"1421\",\"1422\",\"1424\",\"1426\",\"1428\",\"1429\",\"1430\",\"1431\",\"1432\",\"1433\",\"1438\",\"1439\",\"1441\",\"1443\",\"1444\",\"1445\",\"1448\",\"1449\",\"1499\",\"1501\",\"1502\",\"1503\",\"1504\",\"1505\",\"1511\",\"1514\",\"1515\",\"1516\",\"1517\",\"1519\",\"1520\",\"1523\",\"1524\",\"1525\",\"1526\",\"1527\",\"1528\",\"1529\",\"1531\",\"1532\",\"1534\",\"1535\",\"1539\",\"1543\",\"1545\",\"1546\",\"1547\",\"1548\",\"1551\",\"1554\",\"1556\",\"1557\",\"1560\",\"1563\",\"1566\",\"1567\",\"1569\",\"1571\",\"1572\",\"1573\",\"1576\",\"1599\",\"5001\",\"5004\",\"5005\",\"5011\",\"5012\",\"5013\",\"5014\",\"5015\",\"5016\",\"5017\",\"5018\",\"5019\",\"5020\",\"5021\",\"5022\",\"5023\",\"5024\",\"5025\",\"5026\",\"5027\",\"5028\",\"5029\",\"5030\",\"5031\",\"5032\",\"5033\",\"5034\",\"5035\",\"5036\",\"5037\",\"5038\",\"5039\",\"5040\",\"5041\",\"5042\",\"5043\",\"5044\",\"5045\",\"5046\",\"5047\",\"5048\",\"5049\",\"5050\",\"5051\",\"5052\",\"5053\",\"5054\",\"1601\",\"1612\",\"1613\",\"1617\",\"1620\",\"1621\",\"1622\",\"1624\",\"1627\",\"1630\",\"1632\",\"1633\",\"1634\",\"1635\",\"1636\",\"1638\",\"1640\",\"1644\",\"1645\",\"1648\",\"1653\",\"1657\",\"1662\",\"1663\",\"1664\",\"1665\",\"1699\",\"1702\",\"1703\",\"1711\",\"1714\",\"1717\",\"1718\",\"1719\",\"1721\",\"1723\",\"1724\",\"1725\",\"1729\",\"1736\",\"1738\",\"1739\",\"1740\",\"1742\",\"1743\",\"1744\",\"1748\",\"1749\",\"1750\",\"1751\",\"1755\",\"1756\",\"1799\",\"1804\",\"1805\",\"1811\",\"1812\",\"1813\",\"1814\",\"1815\",\"1816\",\"1818\",\"1820\",\"1822\",\"1824\",\"1825\",\"1826\",\"1827\",\"1828\",\"1832\",\"1833\",\"1834\",\"1835\",\"1836\",\"1837\",\"1838\",\"1839\",\"1840\",\"1841\",\"1842\",\"1843\",\"1845\",\"1848\",\"1849\",\"1850\",\"1851\",\"1852\",\"1853\",\"1854\",\"1855\",\"1856\",\"1857\",\"1858\",\"1859\",\"1860\",\"1865\",\"1866\",\"1867\",\"1868\",\"1870\",\"1871\",\"1874\",\"1899\",\"1901\",\"1902\",\"1903\",\"1911\",\"1913\",\"1915\",\"1917\",\"1919\",\"1920\",\"1921\",\"1922\",\"1923\",\"1924\",\"1925\",\"1926\",\"1927\",\"1928\",\"1929\",\"1931\",\"1933\",\"1936\",\"1938\",\"1939\",\"1940\",\"1941\",\"1942\",\"1943\",\"1999\",\"2001\",\"2002\",\"2003\",\"2004\",\"2011\",\"2012\",\"2014\",\"2015\",\"2016\",\"2017\",\"2018\",\"2019\",\"2020\",\"2021\",\"2022\",\"2023\",\"2024\",\"2025\",\"2027\",\"2028\",\"2030\",\"2099\",\"2111\",\"2112\",\"2113\",\"2114\",\"2115\",\"2121\",\"2131\",\"2199\",\"2211\",\"2299\",\"2300\",\"2311\",\"2321\",\"2399\",\"9999\"],\"denseshare\":{\"__ndarray__\":\"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\",\"dtype\":\"float64\",\"shape\":[578]},\"gini\":{\"__ndarray__\":\"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\",\"dtype\":\"float64\",\"shape\":[578]},\"index\":[0,1,2,3,4,5,6,7,8,9,10,11,12,13,14,15,16,17,18,19,20,21,22,23,24,25,26,27,28,29,30,31,32,33,34,35,36,37,38,39,40,41,42,43,44,45,46,47,48,49,50,51,52,53,54,55,56,57,58,59,60,61,62,63,64,65,66,67,68,69,70,71,72,73,74,75,76,77,78,79,80,81,82,83,84,85,86,87,88,89,90,91,92,93,94,95,96,97,98,99,100,101,102,103,104,105,106,107,108,109,110,111,112,113,114,115,116,117,118,119,120,121,122,123,124,125,126,127,128,129,130,131,132,133,134,135,136,137,138,139,140,141,142,143,144,145,146,147,148,149,150,151,152,153,154,155,156,157,158,159,160,161,162,163,164,165,166,167,168,169,170,171,172,173,174,175,176,177,178,179,180,181,182,183,184,185,186,187,188,189,190,191,192,193,194,195,196,197,198,199,200,201,202,203,204,205,206,207,208,209,210,211,212,213,214,215,216,217,218,219,220,221,222,223,224,225,226,227,228,229,230,231,232,233,234,235,236,237,238,239,240,241,242,243,244,245,246,247,248,249,250,251,252,253,254,255,256,257,258,259,260,261,262,263,264,265,266,267,268,269,270,271,272,273,274,275,276,277,278,279,280,281,282,283,284,285,286,287,288,289,290,291,292,293,294,295,296,297,298,299,300,301,302,303,304,305,306,307,308,309,310,311,312,313,314,315,316,317,318,319,320,321,322,323,324,325,326,327,328,329,330,331,332,333,334,335,336,337,338,339,340,341,342,343,344,345,346,347,348,349,350,351,352,353,354,355,356,357,358,359,360,361,362,363,364,365,366,367,368,369,370,371,372,373,374,375,376,377,378,379,380,381,382,383,384,385,386,387,388,389,390,391,392,393,394,395,396,397,398,399,400,401,402,403,404,405,406,407,408,409,410,411,412,413,414,415,416,417,418,419,420,421,422,423,424,425,426,427,428,429,430,431,432,433,434,435,436,437,438,439,440,441,442,443,444,445,446,447,448,449,450,451,452,453,454,455,456,457,458,459,460,461,462,463,464,465,466,467,468,469,470,471,472,473,474,475,476,477,478,479,480,481,482,483,484,485,486,487,488,489,490,491,492,493,494,495,496,497,498,499,500,501,502,503,504,505,506,507,508,509,510,511,512,513,514,515,516,517,518,519,520,521,522,523,524,525,526,527,528,529,530,531,532,533,534,535,536,537,538,539,540,541,542,543,544,545,546,547,548,549,550,551,552,553,554,555,556,557,558,559,560,561,562,563,564,565,566,567,568,569,570,571,572,573,574,575,576,577],\"tettbygd\":[26695,0,0,31855,50006,74355,2717,0,0,0,0,0,0,1852,0,3085,4290,14259,7980,1728,4953,0,0,0,0,5576,14258,3485,3886,0,14339,27499,16241,13409,16714,26514,122308,59634,9482,14426,9001,17065,8526,36926,52122,21605,4743,31675,14138,19447,9193,1046,0,661732,0,0,12814,27088,17504,0,4316,12452,1453,2979,2263,1621,2301,1417,14877,2703,2263,1157,261,0,0,578,2730,767,544,675,0,23971,23228,1240,0,646,882,1842,3370,3114,0,1181,2048,2847,2735,6319,9584,4747,5742,6310,2076,2964,719,236,3478,589,900,0,0,0,66877,22973,20857,4340,0,2141,2930,1328,2718,2820,469,952,9776,14555,24140,21433,19338,7800,951,293,498,0,25683,9300,0,42646,0,0,0,0,36900,54049,5946,0,6295,1627,0,4363,0,0,0,0,0,20069,3427,0,0,0,0,634,0,0,34538,49097,9371,1344,11753,8028,1604,3853,3672,1704,3953,0,1437,780,557,384,603,1166,0,4626,0,19498,38845,885,1009,2749,0,3010,0,0,0,0,0,7966,2851,682,0,0,0,2462,366,298,650,0,86228,12030,6580,6668,11909,4809,9763,383,0,548,2603,6015,0,2873,890,0,12344,70956,131309,36231,2187,2007,1039,14930,15424,16336,10636,23193,9382,530,10319,584,1167,4263,812,2521,386,276,6249,37776,0,0,0,3619,0,271740,1839,0,1840,7581,17615,1709,1042,8278,399,6421,0,1069,539,528,465,8745,5758,532,1087,17549,2023,4261,19367,25443,0,0,0,2987,0,3894,0,5455,3267,1957,8549,1134,446,0,0,0,10086,601,277,0,2821,1256,824,2139,5500,853,1112,5033,1697,726,1389,825,1623,11012,1219,2100,4739,1119,3505,486,3020,0,3425,0,0,23466,0,45558,22268,412,1101,6547,6624,4532,6822,7649,1501,0,3177,638,0,5665,3001,8442,6408,6058,3779,4704,1213,577,468,1683,5313,1380,1080,0,588,977,4797,2781,699,0,203,0,0,645,0,0,0,0,0,0,0,0,0,0,0,0,0,0,0,0,0,0,0,0,0,0,0,0,0,0,0,0,0,0,0,0,0,0,0,0,0,0,0,0,0,0,0,0,0,0,0,0,184541,2563,0,1317,1629,3266,377,1980,1757,1188,0,0,4299,976,2266,8399,3808,601,0,2641,10162,5125,4595,12023,1220,0,0,14236,10620,1038,16290,523,1610,13344,9971,0,1667,339,0,666,246,239,228,1356,323,1833,0,442,3098,1966,0,3278,0,46091,16829,529,934,5627,0,320,0,857,6257,688,9841,824,568,270,1375,2617,21687,471,392,0,3583,677,0,2594,7147,0,0,860,0,527,1183,1718,311,720,863,0,361,625,0,210,6978,6962,5543,950,2428,6847,3631,751,0,0,66281,20953,1794,1185,0,474,0,307,0,2464,780,3695,1538,0,285,585,305,6852,1540,493,819,524,536,2460,2701,405,0,0,2077,5601,10105,1445,16671,504,705,0,288,976,2925,2283,1844,945,779,948,728,0,2212,7878,0,0,0,0,0,0,0,0,0,0,0,0,0,0,0,0],\"totalt\":[30790,0,0,32407,55127,80121,4517,0,0,0,0,0,1398,3597,685,5367,5765,15720,11406,3783,8173,0,0,0,0,7398,15747,5335,5557,0,17188,30698,19288,15743,18869,26988,124008,60781,16162,17665,11555,17730,10927,37406,53276,23213,6546,35102,21241,24415,12657,2910,0,666759,0,0,17857,30598,33842,0,7633,20317,5100,7866,6127,4777,7329,3743,21086,6550,4518,2530,1858,1274,0,1620,5584,2441,1577,1963,0,27781,30319,2675,2048,2202,2360,3640,5723,5916,0,3163,4502,5082,6204,14887,13179,6696,9080,13707,5717,6773,3026,1351,6490,2114,3248,1596,0,0,68363,27216,30034,6772,1081,3357,4612,2442,4719,4535,3502,2257,13786,18562,24718,25740,21931,9462,2696,1399,2530,0,27202,10861,0,44922,0,0,0,0,44082,62019,6653,0,9496,3176,0,9486,0,0,0,0,0,21748,4928,0,0,0,0,2475,0,0,36198,54316,12757,2357,14138,10586,4148,6585,6262,4303,5894,1593,2979,2442,1476,1319,2228,3726,0,6936,0,22692,44576,2511,2104,6051,0,5713,0,0,0,0,0,10702,5178,1856,0,0,1342,3614,1200,1246,952,0,89268,15600,9769,9090,14425,6568,11321,2309,937,1765,4950,8588,1702,5988,1836,0,14899,75497,132729,37166,3316,3259,2826,18800,19042,18656,11902,26016,10873,1245,12662,2708,3853,4760,3235,4892,534,855,11041,42229,201,0,0,8828,0,278556,4135,0,5656,11806,18821,3189,2847,13241,1108,7025,0,3377,921,1131,933,14514,8423,3895,2488,20152,5156,7058,25204,28821,0,0,0,4123,383,8026,0,8021,4913,5128,15731,2884,587,1710,0,0,11999,2371,794,1438,4190,2722,1288,2332,7941,1787,2159,5363,5151,3065,2862,2966,3049,13009,2848,3847,6031,2791,6064,1198,5783,0,7218,0,0,26822,0,47199,24442,3203,2540,8957,8457,5185,9102,10744,2296,1663,4623,1005,0,7695,4667,9007,8176,9312,6577,7503,2963,2085,1246,3547,9741,3454,5856,0,2611,3109,7126,5986,2026,0,1599,0,2160,3590,0,0,0,0,0,0,0,0,0,0,0,0,0,0,0,0,0,0,0,0,0,0,0,0,0,0,0,0,0,0,0,0,0,0,0,0,0,0,0,0,0,0,0,0,0,0,0,0,190464,4259,982,4659,4937,5291,1711,6628,4822,3263,959,978,6973,2556,3960,11891,5623,2046,0,6319,16213,8000,6050,13820,4098,861,0,21972,13051,2508,23625,2630,3480,19892,14849,0,2515,1593,0,2159,1389,469,872,2467,1264,3840,628,1090,4418,5138,584,6800,0,51022,18756,1473,2047,7956,0,1234,528,1788,7428,2278,13465,1469,1414,1410,1837,4524,26101,1920,465,1267,6435,2024,1043,4702,9729,0,0,1958,2543,1810,1960,2134,1252,1402,2554,0,535,744,0,1349,11294,9444,8009,2624,4580,10378,4908,1073,0,0,74541,24845,2986,3048,0,1394,1121,1076,0,3994,2220,6781,3496,1138,1540,921,914,11697,5685,2273,2876,1890,2132,2912,4919,1233,0,0,2104,6154,10527,2938,20446,968,1037,0,1027,1204,3291,3971,2696,1330,1137,991,2911,951,2267,10199,0,0,0,0,0,0,0,0,0,0,0,0,0,0,0,0]}},\"id\":\"be44e36d-1c11-4fac-9653-cc5406f33a42\",\"type\":\"ColumnDataSource\"},{\"attributes\":{},\"id\":\"f29eee8e-c4a3-47b6-a661-66755d955d49\",\"type\":\"BasicTicker\"},{\"attributes\":{\"fill_color\":{\"value\":\"#1f77b4\"},\"line_color\":{\"value\":\"#1f77b4\"},\"x\":{\"field\":\"denseshare\"},\"y\":{\"field\":\"gini\"}},\"id\":\"ccd6db74-3d57-4d75-b2d1-9b04a658f763\",\"type\":\"Circle\"},{\"attributes\":{\"dimension\":1,\"plot\":{\"id\":\"00ee0d6c-16d2-409c-ba7e-c1da78165fc9\",\"subtype\":\"Figure\",\"type\":\"Plot\"},\"ticker\":{\"id\":\"f29eee8e-c4a3-47b6-a661-66755d955d49\",\"type\":\"BasicTicker\"}},\"id\":\"6483c172-82ad-4012-bae5-b4dd7033254d\",\"type\":\"Grid\"},{\"attributes\":{\"plot\":null,\"text\":\"Population density and income inequality in Norway\"},\"id\":\"a5e20de2-c99f-4002-bfb7-84268b7dacbd\",\"type\":\"Title\"},{\"attributes\":{\"callback\":null},\"id\":\"39a8879b-9758-4906-ad15-ca2aff3fb6ef\",\"type\":\"DataRange1d\"},{\"attributes\":{\"active_drag\":\"auto\",\"active_scroll\":\"auto\",\"active_tap\":\"auto\",\"tools\":[{\"id\":\"c2a0d2b9-3f33-4067-a0ed-b0a71efc90a8\",\"type\":\"HoverTool\"}]},\"id\":\"713e1014-b0be-44b9-a677-81d67f66e78f\",\"type\":\"Toolbar\"},{\"attributes\":{},\"id\":\"d638ec33-38c8-421b-b55e-48ca389b28ee\",\"type\":\"ToolEvents\"},{\"attributes\":{\"callback\":null},\"id\":\"6efb5a54-8025-40fa-833f-d7a545c80da2\",\"type\":\"DataRange1d\"}],\"root_ids\":[\"00ee0d6c-16d2-409c-ba7e-c1da78165fc9\"]},\"title\":\"Bokeh Application\",\"version\":\"0.12.5\"}};\n",
       "            var render_items = [{\"docid\":\"b224f5d2-d5f2-4cf3-820e-b007e2a94a89\",\"elementid\":\"a7c01945-1719-4235-81f4-ccfdf5b78c97\",\"modelid\":\"00ee0d6c-16d2-409c-ba7e-c1da78165fc9\"}];\n",
       "            \n",
       "            Bokeh.embed.embed_items(docs_json, render_items);\n",
       "          };\n",
       "          if (document.readyState != \"loading\") fn();\n",
       "          else document.addEventListener(\"DOMContentLoaded\", fn);\n",
       "        })();\n",
       "      },\n",
       "      function(Bokeh) {\n",
       "      }\n",
       "    ];\n",
       "  \n",
       "    function run_inline_js() {\n",
       "      \n",
       "      if ((window.Bokeh !== undefined) || (force === true)) {\n",
       "        for (var i = 0; i < inline_js.length; i++) {\n",
       "          inline_js[i](window.Bokeh);\n",
       "        }if (force === true) {\n",
       "          display_loaded();\n",
       "        }} else if (Date.now() < window._bokeh_timeout) {\n",
       "        setTimeout(run_inline_js, 100);\n",
       "      } else if (!window._bokeh_failed_load) {\n",
       "        console.log(\"Bokeh: BokehJS failed to load within specified timeout.\");\n",
       "        window._bokeh_failed_load = true;\n",
       "      } else if (force !== true) {\n",
       "        var cell = $(document.getElementById(\"a7c01945-1719-4235-81f4-ccfdf5b78c97\")).parents('.cell').data().cell;\n",
       "        cell.output_area.append_execute_result(NB_LOAD_WARNING)\n",
       "      }\n",
       "  \n",
       "    }\n",
       "  \n",
       "    if (window._bokeh_is_loading === 0) {\n",
       "      console.log(\"Bokeh: BokehJS loaded, going straight to plotting\");\n",
       "      run_inline_js();\n",
       "    } else {\n",
       "      load_libs(js_urls, function() {\n",
       "        console.log(\"Bokeh: BokehJS plotting callback run at\", now());\n",
       "        run_inline_js();\n",
       "      });\n",
       "    }\n",
       "  }(this));\n",
       "</script>"
      ]
     },
     "metadata": {},
     "output_type": "display_data"
    }
   ],
   "source": [
    "source = ColumnDataSource(data=dense_gini_df)\n",
    "p = figure(tools=[hover],\n",
    "           x_axis_label=\"Share of population living in dense areas\", \n",
    "           y_axis_label=\"Gini coefficient\", \n",
    "           title=\"Population density and income inequality in Norway\")\n",
    "p.circle(x='denseshare', y='gini', source=source)\n",
    "show(p)"
   ]
  },
  {
   "cell_type": "markdown",
   "metadata": {
    "deletable": true,
    "editable": true
   },
   "source": [
    "That's all, folks!"
   ]
  }
 ],
 "metadata": {
  "kernelspec": {
   "display_name": "Python 3",
   "language": "python",
   "name": "python3"
  },
  "language_info": {
   "codemirror_mode": {
    "name": "ipython",
    "version": 3
   },
   "file_extension": ".py",
   "mimetype": "text/x-python",
   "name": "python",
   "nbconvert_exporter": "python",
   "pygments_lexer": "ipython3",
   "version": "3.6.1"
  }
 },
 "nbformat": 4,
 "nbformat_minor": 2
}
